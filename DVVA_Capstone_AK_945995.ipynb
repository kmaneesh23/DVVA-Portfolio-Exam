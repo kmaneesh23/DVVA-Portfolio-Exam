{
 "cells": [
  {
   "cell_type": "markdown",
   "metadata": {},
   "source": [
    "<div class=\"alert alert-block alert-warning\">\n",
    "<h1 style=\"font-size: 30px;font-weight:bold \">World Happiness Report 2023: Key Predictors of Happiness</h1>\n",
    "\n",
    "* Dataset sources:\n",
    "    * 1. https://worldhappiness.report/ed/2023/#appendices-and-data\n",
    "    * 2. https://www.kaggle.com/datasets/sazidthe1/global-happiness-scores-and-factors?select=WHR_2023.csv\n",
    "</div>"
   ]
  },
  {
   "cell_type": "markdown",
   "metadata": {},
   "source": [
    "# 1. Importing the libraries"
   ]
  },
  {
   "cell_type": "code",
   "execution_count": 21,
   "metadata": {},
   "outputs": [],
   "source": [
    "# Importing essential libraries\n",
    "import pandas as pd  # For data manipulation and analysis\n",
    "import numpy as np  # For numerical operations\n",
    "\n",
    "# For Data visualization\n",
    "import matplotlib.pyplot as plt\n",
    "import plotly.express as px\n",
    "import plotly.graph_objects as go\n",
    "import seaborn as sns\n",
    "\n",
    "# To create subplots\n",
    "from plotly.subplots import make_subplots"
   ]
  },
  {
   "cell_type": "markdown",
   "metadata": {},
   "source": [
    "# 2 . Loading the essential datasets"
   ]
  },
  {
   "cell_type": "markdown",
   "metadata": {},
   "source": [
    "## 2.1 Loading the main dataset"
   ]
  },
  {
   "cell_type": "code",
   "execution_count": 22,
   "metadata": {},
   "outputs": [
    {
     "data": {
      "text/html": [
       "<div>\n",
       "<style scoped>\n",
       "    .dataframe tbody tr th:only-of-type {\n",
       "        vertical-align: middle;\n",
       "    }\n",
       "\n",
       "    .dataframe tbody tr th {\n",
       "        vertical-align: top;\n",
       "    }\n",
       "\n",
       "    .dataframe thead th {\n",
       "        text-align: right;\n",
       "    }\n",
       "</style>\n",
       "<table border=\"1\" class=\"dataframe\">\n",
       "  <thead>\n",
       "    <tr style=\"text-align: right;\">\n",
       "      <th></th>\n",
       "      <th>Country name</th>\n",
       "      <th>Ladder score</th>\n",
       "      <th>Standard error of ladder score</th>\n",
       "      <th>upperwhisker</th>\n",
       "      <th>lowerwhisker</th>\n",
       "      <th>Logged GDP per capita</th>\n",
       "      <th>Social support</th>\n",
       "      <th>Healthy life expectancy</th>\n",
       "      <th>Freedom to make life choices</th>\n",
       "      <th>Generosity</th>\n",
       "      <th>Perceptions of corruption</th>\n",
       "      <th>Ladder score in Dystopia</th>\n",
       "      <th>Explained by: Log GDP per capita</th>\n",
       "      <th>Explained by: Social support</th>\n",
       "      <th>Explained by: Healthy life expectancy</th>\n",
       "      <th>Explained by: Freedom to make life choices</th>\n",
       "      <th>Explained by: Generosity</th>\n",
       "      <th>Explained by: Perceptions of corruption</th>\n",
       "      <th>Dystopia + residual</th>\n",
       "    </tr>\n",
       "  </thead>\n",
       "  <tbody>\n",
       "    <tr>\n",
       "      <th>0</th>\n",
       "      <td>Finland</td>\n",
       "      <td>7.804</td>\n",
       "      <td>0.036</td>\n",
       "      <td>7.875</td>\n",
       "      <td>7.733</td>\n",
       "      <td>10.792</td>\n",
       "      <td>0.969</td>\n",
       "      <td>71.150</td>\n",
       "      <td>0.961</td>\n",
       "      <td>-0.019</td>\n",
       "      <td>0.182</td>\n",
       "      <td>1.778</td>\n",
       "      <td>1.888</td>\n",
       "      <td>1.585</td>\n",
       "      <td>0.535</td>\n",
       "      <td>0.772</td>\n",
       "      <td>0.126</td>\n",
       "      <td>0.535</td>\n",
       "      <td>2.363</td>\n",
       "    </tr>\n",
       "    <tr>\n",
       "      <th>1</th>\n",
       "      <td>Denmark</td>\n",
       "      <td>7.586</td>\n",
       "      <td>0.041</td>\n",
       "      <td>7.667</td>\n",
       "      <td>7.506</td>\n",
       "      <td>10.962</td>\n",
       "      <td>0.954</td>\n",
       "      <td>71.250</td>\n",
       "      <td>0.934</td>\n",
       "      <td>0.134</td>\n",
       "      <td>0.196</td>\n",
       "      <td>1.778</td>\n",
       "      <td>1.949</td>\n",
       "      <td>1.548</td>\n",
       "      <td>0.537</td>\n",
       "      <td>0.734</td>\n",
       "      <td>0.208</td>\n",
       "      <td>0.525</td>\n",
       "      <td>2.084</td>\n",
       "    </tr>\n",
       "    <tr>\n",
       "      <th>2</th>\n",
       "      <td>Iceland</td>\n",
       "      <td>7.530</td>\n",
       "      <td>0.049</td>\n",
       "      <td>7.625</td>\n",
       "      <td>7.434</td>\n",
       "      <td>10.896</td>\n",
       "      <td>0.983</td>\n",
       "      <td>72.050</td>\n",
       "      <td>0.936</td>\n",
       "      <td>0.211</td>\n",
       "      <td>0.668</td>\n",
       "      <td>1.778</td>\n",
       "      <td>1.926</td>\n",
       "      <td>1.620</td>\n",
       "      <td>0.559</td>\n",
       "      <td>0.738</td>\n",
       "      <td>0.250</td>\n",
       "      <td>0.187</td>\n",
       "      <td>2.250</td>\n",
       "    </tr>\n",
       "    <tr>\n",
       "      <th>3</th>\n",
       "      <td>Israel</td>\n",
       "      <td>7.473</td>\n",
       "      <td>0.032</td>\n",
       "      <td>7.535</td>\n",
       "      <td>7.411</td>\n",
       "      <td>10.639</td>\n",
       "      <td>0.943</td>\n",
       "      <td>72.697</td>\n",
       "      <td>0.809</td>\n",
       "      <td>-0.023</td>\n",
       "      <td>0.708</td>\n",
       "      <td>1.778</td>\n",
       "      <td>1.833</td>\n",
       "      <td>1.521</td>\n",
       "      <td>0.577</td>\n",
       "      <td>0.569</td>\n",
       "      <td>0.124</td>\n",
       "      <td>0.158</td>\n",
       "      <td>2.691</td>\n",
       "    </tr>\n",
       "    <tr>\n",
       "      <th>4</th>\n",
       "      <td>Netherlands</td>\n",
       "      <td>7.403</td>\n",
       "      <td>0.029</td>\n",
       "      <td>7.460</td>\n",
       "      <td>7.346</td>\n",
       "      <td>10.942</td>\n",
       "      <td>0.930</td>\n",
       "      <td>71.550</td>\n",
       "      <td>0.887</td>\n",
       "      <td>0.213</td>\n",
       "      <td>0.379</td>\n",
       "      <td>1.778</td>\n",
       "      <td>1.942</td>\n",
       "      <td>1.488</td>\n",
       "      <td>0.545</td>\n",
       "      <td>0.672</td>\n",
       "      <td>0.251</td>\n",
       "      <td>0.394</td>\n",
       "      <td>2.110</td>\n",
       "    </tr>\n",
       "  </tbody>\n",
       "</table>\n",
       "</div>"
      ],
      "text/plain": [
       "  Country name  Ladder score  Standard error of ladder score  upperwhisker  \\\n",
       "0      Finland         7.804                           0.036         7.875   \n",
       "1      Denmark         7.586                           0.041         7.667   \n",
       "2      Iceland         7.530                           0.049         7.625   \n",
       "3       Israel         7.473                           0.032         7.535   \n",
       "4  Netherlands         7.403                           0.029         7.460   \n",
       "\n",
       "   lowerwhisker  Logged GDP per capita  Social support  \\\n",
       "0         7.733                 10.792           0.969   \n",
       "1         7.506                 10.962           0.954   \n",
       "2         7.434                 10.896           0.983   \n",
       "3         7.411                 10.639           0.943   \n",
       "4         7.346                 10.942           0.930   \n",
       "\n",
       "   Healthy life expectancy  Freedom to make life choices  Generosity  \\\n",
       "0                   71.150                         0.961      -0.019   \n",
       "1                   71.250                         0.934       0.134   \n",
       "2                   72.050                         0.936       0.211   \n",
       "3                   72.697                         0.809      -0.023   \n",
       "4                   71.550                         0.887       0.213   \n",
       "\n",
       "   Perceptions of corruption  Ladder score in Dystopia  \\\n",
       "0                      0.182                     1.778   \n",
       "1                      0.196                     1.778   \n",
       "2                      0.668                     1.778   \n",
       "3                      0.708                     1.778   \n",
       "4                      0.379                     1.778   \n",
       "\n",
       "   Explained by: Log GDP per capita  Explained by: Social support  \\\n",
       "0                             1.888                         1.585   \n",
       "1                             1.949                         1.548   \n",
       "2                             1.926                         1.620   \n",
       "3                             1.833                         1.521   \n",
       "4                             1.942                         1.488   \n",
       "\n",
       "   Explained by: Healthy life expectancy  \\\n",
       "0                                  0.535   \n",
       "1                                  0.537   \n",
       "2                                  0.559   \n",
       "3                                  0.577   \n",
       "4                                  0.545   \n",
       "\n",
       "   Explained by: Freedom to make life choices  Explained by: Generosity  \\\n",
       "0                                       0.772                     0.126   \n",
       "1                                       0.734                     0.208   \n",
       "2                                       0.738                     0.250   \n",
       "3                                       0.569                     0.124   \n",
       "4                                       0.672                     0.251   \n",
       "\n",
       "   Explained by: Perceptions of corruption  Dystopia + residual  \n",
       "0                                    0.535                2.363  \n",
       "1                                    0.525                2.084  \n",
       "2                                    0.187                2.250  \n",
       "3                                    0.158                2.691  \n",
       "4                                    0.394                2.110  "
      ]
     },
     "execution_count": 22,
     "metadata": {},
     "output_type": "execute_result"
    }
   ],
   "source": [
    "# Loading the main dataset\n",
    "whr23_df = pd.read_csv('WHR2023.csv')  # Read the CSV file\n",
    "whr23_df.head()  # Display the first few rows of the DataFrame"
   ]
  },
  {
   "cell_type": "code",
   "execution_count": 23,
   "metadata": {},
   "outputs": [
    {
     "data": {
      "text/plain": [
       "(137, 19)"
      ]
     },
     "execution_count": 23,
     "metadata": {},
     "output_type": "execute_result"
    }
   ],
   "source": [
    "whr23_df.shape  # Shape of the dataset"
   ]
  },
  {
   "cell_type": "markdown",
   "metadata": {},
   "source": [
    "## 2.2 Loading the auxiliary dataset"
   ]
  },
  {
   "cell_type": "code",
   "execution_count": 24,
   "metadata": {},
   "outputs": [
    {
     "data": {
      "text/html": [
       "<div>\n",
       "<style scoped>\n",
       "    .dataframe tbody tr th:only-of-type {\n",
       "        vertical-align: middle;\n",
       "    }\n",
       "\n",
       "    .dataframe tbody tr th {\n",
       "        vertical-align: top;\n",
       "    }\n",
       "\n",
       "    .dataframe thead th {\n",
       "        text-align: right;\n",
       "    }\n",
       "</style>\n",
       "<table border=\"1\" class=\"dataframe\">\n",
       "  <thead>\n",
       "    <tr style=\"text-align: right;\">\n",
       "      <th></th>\n",
       "      <th>country</th>\n",
       "      <th>region</th>\n",
       "      <th>happiness_score</th>\n",
       "      <th>gdp_per_capita</th>\n",
       "      <th>social_support</th>\n",
       "      <th>healthy_life_expectancy</th>\n",
       "      <th>freedom_to_make_life_choices</th>\n",
       "      <th>generosity</th>\n",
       "      <th>perceptions_of_corruption</th>\n",
       "    </tr>\n",
       "  </thead>\n",
       "  <tbody>\n",
       "    <tr>\n",
       "      <th>0</th>\n",
       "      <td>Finland</td>\n",
       "      <td>Western Europe</td>\n",
       "      <td>7.804</td>\n",
       "      <td>1.888</td>\n",
       "      <td>1.585</td>\n",
       "      <td>0.535</td>\n",
       "      <td>0.772</td>\n",
       "      <td>0.126</td>\n",
       "      <td>0.535</td>\n",
       "    </tr>\n",
       "    <tr>\n",
       "      <th>1</th>\n",
       "      <td>Denmark</td>\n",
       "      <td>Western Europe</td>\n",
       "      <td>7.586</td>\n",
       "      <td>1.949</td>\n",
       "      <td>1.548</td>\n",
       "      <td>0.537</td>\n",
       "      <td>0.734</td>\n",
       "      <td>0.208</td>\n",
       "      <td>0.525</td>\n",
       "    </tr>\n",
       "    <tr>\n",
       "      <th>2</th>\n",
       "      <td>Iceland</td>\n",
       "      <td>Western Europe</td>\n",
       "      <td>7.530</td>\n",
       "      <td>1.926</td>\n",
       "      <td>1.620</td>\n",
       "      <td>0.559</td>\n",
       "      <td>0.738</td>\n",
       "      <td>0.250</td>\n",
       "      <td>0.187</td>\n",
       "    </tr>\n",
       "    <tr>\n",
       "      <th>3</th>\n",
       "      <td>Israel</td>\n",
       "      <td>Middle East and North Africa</td>\n",
       "      <td>7.473</td>\n",
       "      <td>1.833</td>\n",
       "      <td>1.521</td>\n",
       "      <td>0.577</td>\n",
       "      <td>0.569</td>\n",
       "      <td>0.124</td>\n",
       "      <td>0.158</td>\n",
       "    </tr>\n",
       "    <tr>\n",
       "      <th>4</th>\n",
       "      <td>Netherlands</td>\n",
       "      <td>Western Europe</td>\n",
       "      <td>7.403</td>\n",
       "      <td>1.942</td>\n",
       "      <td>1.488</td>\n",
       "      <td>0.545</td>\n",
       "      <td>0.672</td>\n",
       "      <td>0.251</td>\n",
       "      <td>0.394</td>\n",
       "    </tr>\n",
       "  </tbody>\n",
       "</table>\n",
       "</div>"
      ],
      "text/plain": [
       "       country                        region  happiness_score  gdp_per_capita  \\\n",
       "0      Finland                Western Europe            7.804           1.888   \n",
       "1      Denmark                Western Europe            7.586           1.949   \n",
       "2      Iceland                Western Europe            7.530           1.926   \n",
       "3       Israel  Middle East and North Africa            7.473           1.833   \n",
       "4  Netherlands                Western Europe            7.403           1.942   \n",
       "\n",
       "   social_support  healthy_life_expectancy  freedom_to_make_life_choices  \\\n",
       "0           1.585                    0.535                         0.772   \n",
       "1           1.548                    0.537                         0.734   \n",
       "2           1.620                    0.559                         0.738   \n",
       "3           1.521                    0.577                         0.569   \n",
       "4           1.488                    0.545                         0.672   \n",
       "\n",
       "   generosity  perceptions_of_corruption  \n",
       "0       0.126                      0.535  \n",
       "1       0.208                      0.525  \n",
       "2       0.250                      0.187  \n",
       "3       0.124                      0.158  \n",
       "4       0.251                      0.394  "
      ]
     },
     "execution_count": 24,
     "metadata": {},
     "output_type": "execute_result"
    }
   ],
   "source": [
    "# Loading the auxiliary dataset\n",
    "kagwhr_df=pd.read_csv('WHR2023_kag.csv')  # Read the CSV file\n",
    "kagwhr_df.head()  # Display the first few rows of the DataFrame"
   ]
  },
  {
   "cell_type": "code",
   "execution_count": 25,
   "metadata": {},
   "outputs": [
    {
     "data": {
      "text/plain": [
       "(137, 9)"
      ]
     },
     "execution_count": 25,
     "metadata": {},
     "output_type": "execute_result"
    }
   ],
   "source": [
    "kagwhr_df.shape  # Shape of the dataframe"
   ]
  },
  {
   "cell_type": "markdown",
   "metadata": {},
   "source": [
    "# 3. Preprocessing"
   ]
  },
  {
   "cell_type": "markdown",
   "metadata": {},
   "source": [
    "## 3.1 Rank the countries by ladder scores"
   ]
  },
  {
   "cell_type": "code",
   "execution_count": 26,
   "metadata": {},
   "outputs": [
    {
     "data": {
      "text/html": [
       "<div>\n",
       "<style scoped>\n",
       "    .dataframe tbody tr th:only-of-type {\n",
       "        vertical-align: middle;\n",
       "    }\n",
       "\n",
       "    .dataframe tbody tr th {\n",
       "        vertical-align: top;\n",
       "    }\n",
       "\n",
       "    .dataframe thead th {\n",
       "        text-align: right;\n",
       "    }\n",
       "</style>\n",
       "<table border=\"1\" class=\"dataframe\">\n",
       "  <thead>\n",
       "    <tr style=\"text-align: right;\">\n",
       "      <th></th>\n",
       "      <th>Country name</th>\n",
       "      <th>Rank</th>\n",
       "      <th>Ladder score</th>\n",
       "      <th>Standard error of ladder score</th>\n",
       "      <th>upperwhisker</th>\n",
       "      <th>lowerwhisker</th>\n",
       "      <th>Logged GDP per capita</th>\n",
       "      <th>Social support</th>\n",
       "      <th>Healthy life expectancy</th>\n",
       "      <th>Freedom to make life choices</th>\n",
       "      <th>Generosity</th>\n",
       "      <th>Perceptions of corruption</th>\n",
       "      <th>Ladder score in Dystopia</th>\n",
       "      <th>Explained by: Log GDP per capita</th>\n",
       "      <th>Explained by: Social support</th>\n",
       "      <th>Explained by: Healthy life expectancy</th>\n",
       "      <th>Explained by: Freedom to make life choices</th>\n",
       "      <th>Explained by: Generosity</th>\n",
       "      <th>Explained by: Perceptions of corruption</th>\n",
       "      <th>Dystopia + residual</th>\n",
       "    </tr>\n",
       "  </thead>\n",
       "  <tbody>\n",
       "    <tr>\n",
       "      <th>0</th>\n",
       "      <td>Finland</td>\n",
       "      <td>1</td>\n",
       "      <td>7.804</td>\n",
       "      <td>0.036</td>\n",
       "      <td>7.875</td>\n",
       "      <td>7.733</td>\n",
       "      <td>10.792</td>\n",
       "      <td>0.969</td>\n",
       "      <td>71.150</td>\n",
       "      <td>0.961</td>\n",
       "      <td>-0.019</td>\n",
       "      <td>0.182</td>\n",
       "      <td>1.778</td>\n",
       "      <td>1.888</td>\n",
       "      <td>1.585</td>\n",
       "      <td>0.535</td>\n",
       "      <td>0.772</td>\n",
       "      <td>0.126</td>\n",
       "      <td>0.535</td>\n",
       "      <td>2.363</td>\n",
       "    </tr>\n",
       "    <tr>\n",
       "      <th>1</th>\n",
       "      <td>Denmark</td>\n",
       "      <td>2</td>\n",
       "      <td>7.586</td>\n",
       "      <td>0.041</td>\n",
       "      <td>7.667</td>\n",
       "      <td>7.506</td>\n",
       "      <td>10.962</td>\n",
       "      <td>0.954</td>\n",
       "      <td>71.250</td>\n",
       "      <td>0.934</td>\n",
       "      <td>0.134</td>\n",
       "      <td>0.196</td>\n",
       "      <td>1.778</td>\n",
       "      <td>1.949</td>\n",
       "      <td>1.548</td>\n",
       "      <td>0.537</td>\n",
       "      <td>0.734</td>\n",
       "      <td>0.208</td>\n",
       "      <td>0.525</td>\n",
       "      <td>2.084</td>\n",
       "    </tr>\n",
       "    <tr>\n",
       "      <th>2</th>\n",
       "      <td>Iceland</td>\n",
       "      <td>3</td>\n",
       "      <td>7.530</td>\n",
       "      <td>0.049</td>\n",
       "      <td>7.625</td>\n",
       "      <td>7.434</td>\n",
       "      <td>10.896</td>\n",
       "      <td>0.983</td>\n",
       "      <td>72.050</td>\n",
       "      <td>0.936</td>\n",
       "      <td>0.211</td>\n",
       "      <td>0.668</td>\n",
       "      <td>1.778</td>\n",
       "      <td>1.926</td>\n",
       "      <td>1.620</td>\n",
       "      <td>0.559</td>\n",
       "      <td>0.738</td>\n",
       "      <td>0.250</td>\n",
       "      <td>0.187</td>\n",
       "      <td>2.250</td>\n",
       "    </tr>\n",
       "    <tr>\n",
       "      <th>3</th>\n",
       "      <td>Israel</td>\n",
       "      <td>4</td>\n",
       "      <td>7.473</td>\n",
       "      <td>0.032</td>\n",
       "      <td>7.535</td>\n",
       "      <td>7.411</td>\n",
       "      <td>10.639</td>\n",
       "      <td>0.943</td>\n",
       "      <td>72.697</td>\n",
       "      <td>0.809</td>\n",
       "      <td>-0.023</td>\n",
       "      <td>0.708</td>\n",
       "      <td>1.778</td>\n",
       "      <td>1.833</td>\n",
       "      <td>1.521</td>\n",
       "      <td>0.577</td>\n",
       "      <td>0.569</td>\n",
       "      <td>0.124</td>\n",
       "      <td>0.158</td>\n",
       "      <td>2.691</td>\n",
       "    </tr>\n",
       "    <tr>\n",
       "      <th>4</th>\n",
       "      <td>Netherlands</td>\n",
       "      <td>5</td>\n",
       "      <td>7.403</td>\n",
       "      <td>0.029</td>\n",
       "      <td>7.460</td>\n",
       "      <td>7.346</td>\n",
       "      <td>10.942</td>\n",
       "      <td>0.930</td>\n",
       "      <td>71.550</td>\n",
       "      <td>0.887</td>\n",
       "      <td>0.213</td>\n",
       "      <td>0.379</td>\n",
       "      <td>1.778</td>\n",
       "      <td>1.942</td>\n",
       "      <td>1.488</td>\n",
       "      <td>0.545</td>\n",
       "      <td>0.672</td>\n",
       "      <td>0.251</td>\n",
       "      <td>0.394</td>\n",
       "      <td>2.110</td>\n",
       "    </tr>\n",
       "  </tbody>\n",
       "</table>\n",
       "</div>"
      ],
      "text/plain": [
       "  Country name  Rank  Ladder score  Standard error of ladder score  \\\n",
       "0      Finland     1         7.804                           0.036   \n",
       "1      Denmark     2         7.586                           0.041   \n",
       "2      Iceland     3         7.530                           0.049   \n",
       "3       Israel     4         7.473                           0.032   \n",
       "4  Netherlands     5         7.403                           0.029   \n",
       "\n",
       "   upperwhisker  lowerwhisker  Logged GDP per capita  Social support  \\\n",
       "0         7.875         7.733                 10.792           0.969   \n",
       "1         7.667         7.506                 10.962           0.954   \n",
       "2         7.625         7.434                 10.896           0.983   \n",
       "3         7.535         7.411                 10.639           0.943   \n",
       "4         7.460         7.346                 10.942           0.930   \n",
       "\n",
       "   Healthy life expectancy  Freedom to make life choices  Generosity  \\\n",
       "0                   71.150                         0.961      -0.019   \n",
       "1                   71.250                         0.934       0.134   \n",
       "2                   72.050                         0.936       0.211   \n",
       "3                   72.697                         0.809      -0.023   \n",
       "4                   71.550                         0.887       0.213   \n",
       "\n",
       "   Perceptions of corruption  Ladder score in Dystopia  \\\n",
       "0                      0.182                     1.778   \n",
       "1                      0.196                     1.778   \n",
       "2                      0.668                     1.778   \n",
       "3                      0.708                     1.778   \n",
       "4                      0.379                     1.778   \n",
       "\n",
       "   Explained by: Log GDP per capita  Explained by: Social support  \\\n",
       "0                             1.888                         1.585   \n",
       "1                             1.949                         1.548   \n",
       "2                             1.926                         1.620   \n",
       "3                             1.833                         1.521   \n",
       "4                             1.942                         1.488   \n",
       "\n",
       "   Explained by: Healthy life expectancy  \\\n",
       "0                                  0.535   \n",
       "1                                  0.537   \n",
       "2                                  0.559   \n",
       "3                                  0.577   \n",
       "4                                  0.545   \n",
       "\n",
       "   Explained by: Freedom to make life choices  Explained by: Generosity  \\\n",
       "0                                       0.772                     0.126   \n",
       "1                                       0.734                     0.208   \n",
       "2                                       0.738                     0.250   \n",
       "3                                       0.569                     0.124   \n",
       "4                                       0.672                     0.251   \n",
       "\n",
       "   Explained by: Perceptions of corruption  Dystopia + residual  \n",
       "0                                    0.535                2.363  \n",
       "1                                    0.525                2.084  \n",
       "2                                    0.187                2.250  \n",
       "3                                    0.158                2.691  \n",
       "4                                    0.394                2.110  "
      ]
     },
     "execution_count": 26,
     "metadata": {},
     "output_type": "execute_result"
    }
   ],
   "source": [
    "whr23_df['Rank'] = whr23_df['Ladder score'].rank(ascending=False, method='min')  # Rank the countries based on their ladder score in descending order\n",
    "whr23_df['Rank'] = whr23_df['Rank'].astype(int)  # Convert the 'Rank' column to dtype integer\n",
    "whr23_df.insert(1, 'Rank', whr23_df.pop('Rank'))  # Insert the 'Rank' column at index 1\n",
    "whr23_df.head()  # Display the updated DataFrame"
   ]
  },
  {
   "cell_type": "markdown",
   "metadata": {},
   "source": [
    "## 3.2 Mapping regions from the auxiliary dataset to the main dataset"
   ]
  },
  {
   "cell_type": "code",
   "execution_count": 27,
   "metadata": {},
   "outputs": [
    {
     "data": {
      "text/html": [
       "<div>\n",
       "<style scoped>\n",
       "    .dataframe tbody tr th:only-of-type {\n",
       "        vertical-align: middle;\n",
       "    }\n",
       "\n",
       "    .dataframe tbody tr th {\n",
       "        vertical-align: top;\n",
       "    }\n",
       "\n",
       "    .dataframe thead th {\n",
       "        text-align: right;\n",
       "    }\n",
       "</style>\n",
       "<table border=\"1\" class=\"dataframe\">\n",
       "  <thead>\n",
       "    <tr style=\"text-align: right;\">\n",
       "      <th></th>\n",
       "      <th>Country name</th>\n",
       "      <th>Region</th>\n",
       "      <th>Rank</th>\n",
       "      <th>Ladder score</th>\n",
       "      <th>Standard error of ladder score</th>\n",
       "      <th>upperwhisker</th>\n",
       "      <th>lowerwhisker</th>\n",
       "      <th>Logged GDP per capita</th>\n",
       "      <th>Social support</th>\n",
       "      <th>Healthy life expectancy</th>\n",
       "      <th>Freedom to make life choices</th>\n",
       "      <th>Generosity</th>\n",
       "      <th>Perceptions of corruption</th>\n",
       "      <th>Ladder score in Dystopia</th>\n",
       "      <th>Explained by: Log GDP per capita</th>\n",
       "      <th>Explained by: Social support</th>\n",
       "      <th>Explained by: Healthy life expectancy</th>\n",
       "      <th>Explained by: Freedom to make life choices</th>\n",
       "      <th>Explained by: Generosity</th>\n",
       "      <th>Explained by: Perceptions of corruption</th>\n",
       "      <th>Dystopia + residual</th>\n",
       "    </tr>\n",
       "  </thead>\n",
       "  <tbody>\n",
       "    <tr>\n",
       "      <th>0</th>\n",
       "      <td>Finland</td>\n",
       "      <td>Western Europe</td>\n",
       "      <td>1</td>\n",
       "      <td>7.804</td>\n",
       "      <td>0.036</td>\n",
       "      <td>7.875</td>\n",
       "      <td>7.733</td>\n",
       "      <td>10.792</td>\n",
       "      <td>0.969</td>\n",
       "      <td>71.150</td>\n",
       "      <td>0.961</td>\n",
       "      <td>-0.019</td>\n",
       "      <td>0.182</td>\n",
       "      <td>1.778</td>\n",
       "      <td>1.888</td>\n",
       "      <td>1.585</td>\n",
       "      <td>0.535</td>\n",
       "      <td>0.772</td>\n",
       "      <td>0.126</td>\n",
       "      <td>0.535</td>\n",
       "      <td>2.363</td>\n",
       "    </tr>\n",
       "    <tr>\n",
       "      <th>1</th>\n",
       "      <td>Denmark</td>\n",
       "      <td>Western Europe</td>\n",
       "      <td>2</td>\n",
       "      <td>7.586</td>\n",
       "      <td>0.041</td>\n",
       "      <td>7.667</td>\n",
       "      <td>7.506</td>\n",
       "      <td>10.962</td>\n",
       "      <td>0.954</td>\n",
       "      <td>71.250</td>\n",
       "      <td>0.934</td>\n",
       "      <td>0.134</td>\n",
       "      <td>0.196</td>\n",
       "      <td>1.778</td>\n",
       "      <td>1.949</td>\n",
       "      <td>1.548</td>\n",
       "      <td>0.537</td>\n",
       "      <td>0.734</td>\n",
       "      <td>0.208</td>\n",
       "      <td>0.525</td>\n",
       "      <td>2.084</td>\n",
       "    </tr>\n",
       "    <tr>\n",
       "      <th>2</th>\n",
       "      <td>Iceland</td>\n",
       "      <td>Western Europe</td>\n",
       "      <td>3</td>\n",
       "      <td>7.530</td>\n",
       "      <td>0.049</td>\n",
       "      <td>7.625</td>\n",
       "      <td>7.434</td>\n",
       "      <td>10.896</td>\n",
       "      <td>0.983</td>\n",
       "      <td>72.050</td>\n",
       "      <td>0.936</td>\n",
       "      <td>0.211</td>\n",
       "      <td>0.668</td>\n",
       "      <td>1.778</td>\n",
       "      <td>1.926</td>\n",
       "      <td>1.620</td>\n",
       "      <td>0.559</td>\n",
       "      <td>0.738</td>\n",
       "      <td>0.250</td>\n",
       "      <td>0.187</td>\n",
       "      <td>2.250</td>\n",
       "    </tr>\n",
       "    <tr>\n",
       "      <th>3</th>\n",
       "      <td>Israel</td>\n",
       "      <td>Middle East and North Africa</td>\n",
       "      <td>4</td>\n",
       "      <td>7.473</td>\n",
       "      <td>0.032</td>\n",
       "      <td>7.535</td>\n",
       "      <td>7.411</td>\n",
       "      <td>10.639</td>\n",
       "      <td>0.943</td>\n",
       "      <td>72.697</td>\n",
       "      <td>0.809</td>\n",
       "      <td>-0.023</td>\n",
       "      <td>0.708</td>\n",
       "      <td>1.778</td>\n",
       "      <td>1.833</td>\n",
       "      <td>1.521</td>\n",
       "      <td>0.577</td>\n",
       "      <td>0.569</td>\n",
       "      <td>0.124</td>\n",
       "      <td>0.158</td>\n",
       "      <td>2.691</td>\n",
       "    </tr>\n",
       "    <tr>\n",
       "      <th>4</th>\n",
       "      <td>Netherlands</td>\n",
       "      <td>Western Europe</td>\n",
       "      <td>5</td>\n",
       "      <td>7.403</td>\n",
       "      <td>0.029</td>\n",
       "      <td>7.460</td>\n",
       "      <td>7.346</td>\n",
       "      <td>10.942</td>\n",
       "      <td>0.930</td>\n",
       "      <td>71.550</td>\n",
       "      <td>0.887</td>\n",
       "      <td>0.213</td>\n",
       "      <td>0.379</td>\n",
       "      <td>1.778</td>\n",
       "      <td>1.942</td>\n",
       "      <td>1.488</td>\n",
       "      <td>0.545</td>\n",
       "      <td>0.672</td>\n",
       "      <td>0.251</td>\n",
       "      <td>0.394</td>\n",
       "      <td>2.110</td>\n",
       "    </tr>\n",
       "  </tbody>\n",
       "</table>\n",
       "</div>"
      ],
      "text/plain": [
       "  Country name                        Region  Rank  Ladder score  \\\n",
       "0      Finland                Western Europe     1         7.804   \n",
       "1      Denmark                Western Europe     2         7.586   \n",
       "2      Iceland                Western Europe     3         7.530   \n",
       "3       Israel  Middle East and North Africa     4         7.473   \n",
       "4  Netherlands                Western Europe     5         7.403   \n",
       "\n",
       "   Standard error of ladder score  upperwhisker  lowerwhisker  \\\n",
       "0                           0.036         7.875         7.733   \n",
       "1                           0.041         7.667         7.506   \n",
       "2                           0.049         7.625         7.434   \n",
       "3                           0.032         7.535         7.411   \n",
       "4                           0.029         7.460         7.346   \n",
       "\n",
       "   Logged GDP per capita  Social support  Healthy life expectancy  \\\n",
       "0                 10.792           0.969                   71.150   \n",
       "1                 10.962           0.954                   71.250   \n",
       "2                 10.896           0.983                   72.050   \n",
       "3                 10.639           0.943                   72.697   \n",
       "4                 10.942           0.930                   71.550   \n",
       "\n",
       "   Freedom to make life choices  Generosity  Perceptions of corruption  \\\n",
       "0                         0.961      -0.019                      0.182   \n",
       "1                         0.934       0.134                      0.196   \n",
       "2                         0.936       0.211                      0.668   \n",
       "3                         0.809      -0.023                      0.708   \n",
       "4                         0.887       0.213                      0.379   \n",
       "\n",
       "   Ladder score in Dystopia  Explained by: Log GDP per capita  \\\n",
       "0                     1.778                             1.888   \n",
       "1                     1.778                             1.949   \n",
       "2                     1.778                             1.926   \n",
       "3                     1.778                             1.833   \n",
       "4                     1.778                             1.942   \n",
       "\n",
       "   Explained by: Social support  Explained by: Healthy life expectancy  \\\n",
       "0                         1.585                                  0.535   \n",
       "1                         1.548                                  0.537   \n",
       "2                         1.620                                  0.559   \n",
       "3                         1.521                                  0.577   \n",
       "4                         1.488                                  0.545   \n",
       "\n",
       "   Explained by: Freedom to make life choices  Explained by: Generosity  \\\n",
       "0                                       0.772                     0.126   \n",
       "1                                       0.734                     0.208   \n",
       "2                                       0.738                     0.250   \n",
       "3                                       0.569                     0.124   \n",
       "4                                       0.672                     0.251   \n",
       "\n",
       "   Explained by: Perceptions of corruption  Dystopia + residual  \n",
       "0                                    0.535                2.363  \n",
       "1                                    0.525                2.084  \n",
       "2                                    0.187                2.250  \n",
       "3                                    0.158                2.691  \n",
       "4                                    0.394                2.110  "
      ]
     },
     "execution_count": 27,
     "metadata": {},
     "output_type": "execute_result"
    }
   ],
   "source": [
    "whr23_df['Region'] = whr23_df['Country name'].map(kagwhr_df.set_index('country')['region'])  # Mapping the 'Region' to each country in the 'whr23_df' DataFrame based on the 'Country name'\n",
    "whr23_df.insert(1, 'Region', whr23_df.pop('Region'))  # Inserting the 'Region' column at index 1\n",
    "whr23_df.head()  # Display the updated DataFrame"
   ]
  },
  {
   "cell_type": "code",
   "execution_count": 28,
   "metadata": {},
   "outputs": [
    {
     "data": {
      "text/html": [
       "<div>\n",
       "<style scoped>\n",
       "    .dataframe tbody tr th:only-of-type {\n",
       "        vertical-align: middle;\n",
       "    }\n",
       "\n",
       "    .dataframe tbody tr th {\n",
       "        vertical-align: top;\n",
       "    }\n",
       "\n",
       "    .dataframe thead th {\n",
       "        text-align: right;\n",
       "    }\n",
       "</style>\n",
       "<table border=\"1\" class=\"dataframe\">\n",
       "  <thead>\n",
       "    <tr style=\"text-align: right;\">\n",
       "      <th></th>\n",
       "      <th>Country name</th>\n",
       "      <th>Region</th>\n",
       "      <th>Rank</th>\n",
       "      <th>Ladder score</th>\n",
       "      <th>Standard error of ladder score</th>\n",
       "      <th>upperwhisker</th>\n",
       "      <th>lowerwhisker</th>\n",
       "      <th>Logged GDP per capita</th>\n",
       "      <th>Social support</th>\n",
       "      <th>Healthy life expectancy</th>\n",
       "      <th>Freedom to make life choices</th>\n",
       "      <th>Generosity</th>\n",
       "      <th>Perceptions of corruption</th>\n",
       "      <th>Ladder score in Dystopia</th>\n",
       "      <th>Explained by: Log GDP per capita</th>\n",
       "      <th>Explained by: Social support</th>\n",
       "      <th>Explained by: Healthy life expectancy</th>\n",
       "      <th>Explained by: Freedom to make life choices</th>\n",
       "      <th>Explained by: Generosity</th>\n",
       "      <th>Explained by: Perceptions of corruption</th>\n",
       "      <th>Dystopia + residual</th>\n",
       "    </tr>\n",
       "  </thead>\n",
       "  <tbody>\n",
       "    <tr>\n",
       "      <th>0</th>\n",
       "      <td>Finland</td>\n",
       "      <td>Western Europe</td>\n",
       "      <td>1</td>\n",
       "      <td>7.804</td>\n",
       "      <td>0.036</td>\n",
       "      <td>7.875</td>\n",
       "      <td>7.733</td>\n",
       "      <td>10.792</td>\n",
       "      <td>0.969</td>\n",
       "      <td>71.150</td>\n",
       "      <td>0.961</td>\n",
       "      <td>-0.019</td>\n",
       "      <td>0.182</td>\n",
       "      <td>1.778</td>\n",
       "      <td>1.888</td>\n",
       "      <td>1.585</td>\n",
       "      <td>0.535</td>\n",
       "      <td>0.772</td>\n",
       "      <td>0.126</td>\n",
       "      <td>0.535</td>\n",
       "      <td>2.363</td>\n",
       "    </tr>\n",
       "    <tr>\n",
       "      <th>1</th>\n",
       "      <td>Denmark</td>\n",
       "      <td>Western Europe</td>\n",
       "      <td>2</td>\n",
       "      <td>7.586</td>\n",
       "      <td>0.041</td>\n",
       "      <td>7.667</td>\n",
       "      <td>7.506</td>\n",
       "      <td>10.962</td>\n",
       "      <td>0.954</td>\n",
       "      <td>71.250</td>\n",
       "      <td>0.934</td>\n",
       "      <td>0.134</td>\n",
       "      <td>0.196</td>\n",
       "      <td>1.778</td>\n",
       "      <td>1.949</td>\n",
       "      <td>1.548</td>\n",
       "      <td>0.537</td>\n",
       "      <td>0.734</td>\n",
       "      <td>0.208</td>\n",
       "      <td>0.525</td>\n",
       "      <td>2.084</td>\n",
       "    </tr>\n",
       "    <tr>\n",
       "      <th>2</th>\n",
       "      <td>Iceland</td>\n",
       "      <td>Western Europe</td>\n",
       "      <td>3</td>\n",
       "      <td>7.530</td>\n",
       "      <td>0.049</td>\n",
       "      <td>7.625</td>\n",
       "      <td>7.434</td>\n",
       "      <td>10.896</td>\n",
       "      <td>0.983</td>\n",
       "      <td>72.050</td>\n",
       "      <td>0.936</td>\n",
       "      <td>0.211</td>\n",
       "      <td>0.668</td>\n",
       "      <td>1.778</td>\n",
       "      <td>1.926</td>\n",
       "      <td>1.620</td>\n",
       "      <td>0.559</td>\n",
       "      <td>0.738</td>\n",
       "      <td>0.250</td>\n",
       "      <td>0.187</td>\n",
       "      <td>2.250</td>\n",
       "    </tr>\n",
       "    <tr>\n",
       "      <th>3</th>\n",
       "      <td>Israel</td>\n",
       "      <td>Middle East and North Africa</td>\n",
       "      <td>4</td>\n",
       "      <td>7.473</td>\n",
       "      <td>0.032</td>\n",
       "      <td>7.535</td>\n",
       "      <td>7.411</td>\n",
       "      <td>10.639</td>\n",
       "      <td>0.943</td>\n",
       "      <td>72.697</td>\n",
       "      <td>0.809</td>\n",
       "      <td>-0.023</td>\n",
       "      <td>0.708</td>\n",
       "      <td>1.778</td>\n",
       "      <td>1.833</td>\n",
       "      <td>1.521</td>\n",
       "      <td>0.577</td>\n",
       "      <td>0.569</td>\n",
       "      <td>0.124</td>\n",
       "      <td>0.158</td>\n",
       "      <td>2.691</td>\n",
       "    </tr>\n",
       "    <tr>\n",
       "      <th>4</th>\n",
       "      <td>Netherlands</td>\n",
       "      <td>Western Europe</td>\n",
       "      <td>5</td>\n",
       "      <td>7.403</td>\n",
       "      <td>0.029</td>\n",
       "      <td>7.460</td>\n",
       "      <td>7.346</td>\n",
       "      <td>10.942</td>\n",
       "      <td>0.930</td>\n",
       "      <td>71.550</td>\n",
       "      <td>0.887</td>\n",
       "      <td>0.213</td>\n",
       "      <td>0.379</td>\n",
       "      <td>1.778</td>\n",
       "      <td>1.942</td>\n",
       "      <td>1.488</td>\n",
       "      <td>0.545</td>\n",
       "      <td>0.672</td>\n",
       "      <td>0.251</td>\n",
       "      <td>0.394</td>\n",
       "      <td>2.110</td>\n",
       "    </tr>\n",
       "  </tbody>\n",
       "</table>\n",
       "</div>"
      ],
      "text/plain": [
       "  Country name                        Region  Rank  Ladder score  \\\n",
       "0      Finland                Western Europe     1         7.804   \n",
       "1      Denmark                Western Europe     2         7.586   \n",
       "2      Iceland                Western Europe     3         7.530   \n",
       "3       Israel  Middle East and North Africa     4         7.473   \n",
       "4  Netherlands                Western Europe     5         7.403   \n",
       "\n",
       "   Standard error of ladder score  upperwhisker  lowerwhisker  \\\n",
       "0                           0.036         7.875         7.733   \n",
       "1                           0.041         7.667         7.506   \n",
       "2                           0.049         7.625         7.434   \n",
       "3                           0.032         7.535         7.411   \n",
       "4                           0.029         7.460         7.346   \n",
       "\n",
       "   Logged GDP per capita  Social support  Healthy life expectancy  \\\n",
       "0                 10.792           0.969                   71.150   \n",
       "1                 10.962           0.954                   71.250   \n",
       "2                 10.896           0.983                   72.050   \n",
       "3                 10.639           0.943                   72.697   \n",
       "4                 10.942           0.930                   71.550   \n",
       "\n",
       "   Freedom to make life choices  Generosity  Perceptions of corruption  \\\n",
       "0                         0.961      -0.019                      0.182   \n",
       "1                         0.934       0.134                      0.196   \n",
       "2                         0.936       0.211                      0.668   \n",
       "3                         0.809      -0.023                      0.708   \n",
       "4                         0.887       0.213                      0.379   \n",
       "\n",
       "   Ladder score in Dystopia  Explained by: Log GDP per capita  \\\n",
       "0                     1.778                             1.888   \n",
       "1                     1.778                             1.949   \n",
       "2                     1.778                             1.926   \n",
       "3                     1.778                             1.833   \n",
       "4                     1.778                             1.942   \n",
       "\n",
       "   Explained by: Social support  Explained by: Healthy life expectancy  \\\n",
       "0                         1.585                                  0.535   \n",
       "1                         1.548                                  0.537   \n",
       "2                         1.620                                  0.559   \n",
       "3                         1.521                                  0.577   \n",
       "4                         1.488                                  0.545   \n",
       "\n",
       "   Explained by: Freedom to make life choices  Explained by: Generosity  \\\n",
       "0                                       0.772                     0.126   \n",
       "1                                       0.734                     0.208   \n",
       "2                                       0.738                     0.250   \n",
       "3                                       0.569                     0.124   \n",
       "4                                       0.672                     0.251   \n",
       "\n",
       "   Explained by: Perceptions of corruption  Dystopia + residual  \n",
       "0                                    0.535                2.363  \n",
       "1                                    0.525                2.084  \n",
       "2                                    0.187                2.250  \n",
       "3                                    0.158                2.691  \n",
       "4                                    0.394                2.110  "
      ]
     },
     "execution_count": 28,
     "metadata": {},
     "output_type": "execute_result"
    }
   ],
   "source": [
    "pd.set_option('display.max_columns', None)  # Display all columns\n",
    "pd.set_option('display.max_rows', None)  # Display all rows\n",
    "whr23_df.head()"
   ]
  },
  {
   "cell_type": "code",
   "execution_count": 29,
   "metadata": {},
   "outputs": [
    {
     "name": "stdout",
     "output_type": "stream",
     "text": [
      "Index 0: Country name\n",
      "Index 1: Region\n",
      "Index 2: Rank\n",
      "Index 3: Ladder score\n",
      "Index 4: Standard error of ladder score\n",
      "Index 5: upperwhisker\n",
      "Index 6: lowerwhisker\n",
      "Index 7: Logged GDP per capita\n",
      "Index 8: Social support\n",
      "Index 9: Healthy life expectancy\n",
      "Index 10: Freedom to make life choices\n",
      "Index 11: Generosity\n",
      "Index 12: Perceptions of corruption\n",
      "Index 13: Ladder score in Dystopia\n",
      "Index 14: Explained by: Log GDP per capita\n",
      "Index 15: Explained by: Social support\n",
      "Index 16: Explained by: Healthy life expectancy\n",
      "Index 17: Explained by: Freedom to make life choices\n",
      "Index 18: Explained by: Generosity\n",
      "Index 19: Explained by: Perceptions of corruption\n",
      "Index 20: Dystopia + residual\n"
     ]
    }
   ],
   "source": [
    "# Loop through the columns of the \"whr23_df\" DataFrame to get the index and col names\n",
    "for idx, col in enumerate(whr23_df.columns):\n",
    "    print(f'Index {idx}: {col}')  # Print the index and column name"
   ]
  },
  {
   "cell_type": "markdown",
   "metadata": {},
   "source": [
    "## 3.3 Dropping unnecessary columns"
   ]
  },
  {
   "cell_type": "code",
   "execution_count": 30,
   "metadata": {},
   "outputs": [
    {
     "data": {
      "text/html": [
       "<div>\n",
       "<style scoped>\n",
       "    .dataframe tbody tr th:only-of-type {\n",
       "        vertical-align: middle;\n",
       "    }\n",
       "\n",
       "    .dataframe tbody tr th {\n",
       "        vertical-align: top;\n",
       "    }\n",
       "\n",
       "    .dataframe thead th {\n",
       "        text-align: right;\n",
       "    }\n",
       "</style>\n",
       "<table border=\"1\" class=\"dataframe\">\n",
       "  <thead>\n",
       "    <tr style=\"text-align: right;\">\n",
       "      <th></th>\n",
       "      <th>Country name</th>\n",
       "      <th>Region</th>\n",
       "      <th>Rank</th>\n",
       "      <th>Ladder score</th>\n",
       "      <th>Logged GDP per capita</th>\n",
       "      <th>Social support</th>\n",
       "      <th>Healthy life expectancy</th>\n",
       "      <th>Freedom to make life choices</th>\n",
       "      <th>Generosity</th>\n",
       "      <th>Perceptions of corruption</th>\n",
       "    </tr>\n",
       "  </thead>\n",
       "  <tbody>\n",
       "    <tr>\n",
       "      <th>0</th>\n",
       "      <td>Finland</td>\n",
       "      <td>Western Europe</td>\n",
       "      <td>1</td>\n",
       "      <td>7.804</td>\n",
       "      <td>10.792</td>\n",
       "      <td>0.969</td>\n",
       "      <td>71.150</td>\n",
       "      <td>0.961</td>\n",
       "      <td>-0.019</td>\n",
       "      <td>0.182</td>\n",
       "    </tr>\n",
       "    <tr>\n",
       "      <th>1</th>\n",
       "      <td>Denmark</td>\n",
       "      <td>Western Europe</td>\n",
       "      <td>2</td>\n",
       "      <td>7.586</td>\n",
       "      <td>10.962</td>\n",
       "      <td>0.954</td>\n",
       "      <td>71.250</td>\n",
       "      <td>0.934</td>\n",
       "      <td>0.134</td>\n",
       "      <td>0.196</td>\n",
       "    </tr>\n",
       "    <tr>\n",
       "      <th>2</th>\n",
       "      <td>Iceland</td>\n",
       "      <td>Western Europe</td>\n",
       "      <td>3</td>\n",
       "      <td>7.530</td>\n",
       "      <td>10.896</td>\n",
       "      <td>0.983</td>\n",
       "      <td>72.050</td>\n",
       "      <td>0.936</td>\n",
       "      <td>0.211</td>\n",
       "      <td>0.668</td>\n",
       "    </tr>\n",
       "    <tr>\n",
       "      <th>3</th>\n",
       "      <td>Israel</td>\n",
       "      <td>Middle East and North Africa</td>\n",
       "      <td>4</td>\n",
       "      <td>7.473</td>\n",
       "      <td>10.639</td>\n",
       "      <td>0.943</td>\n",
       "      <td>72.697</td>\n",
       "      <td>0.809</td>\n",
       "      <td>-0.023</td>\n",
       "      <td>0.708</td>\n",
       "    </tr>\n",
       "    <tr>\n",
       "      <th>4</th>\n",
       "      <td>Netherlands</td>\n",
       "      <td>Western Europe</td>\n",
       "      <td>5</td>\n",
       "      <td>7.403</td>\n",
       "      <td>10.942</td>\n",
       "      <td>0.930</td>\n",
       "      <td>71.550</td>\n",
       "      <td>0.887</td>\n",
       "      <td>0.213</td>\n",
       "      <td>0.379</td>\n",
       "    </tr>\n",
       "  </tbody>\n",
       "</table>\n",
       "</div>"
      ],
      "text/plain": [
       "  Country name                        Region  Rank  Ladder score  \\\n",
       "0      Finland                Western Europe     1         7.804   \n",
       "1      Denmark                Western Europe     2         7.586   \n",
       "2      Iceland                Western Europe     3         7.530   \n",
       "3       Israel  Middle East and North Africa     4         7.473   \n",
       "4  Netherlands                Western Europe     5         7.403   \n",
       "\n",
       "   Logged GDP per capita  Social support  Healthy life expectancy  \\\n",
       "0                 10.792           0.969                   71.150   \n",
       "1                 10.962           0.954                   71.250   \n",
       "2                 10.896           0.983                   72.050   \n",
       "3                 10.639           0.943                   72.697   \n",
       "4                 10.942           0.930                   71.550   \n",
       "\n",
       "   Freedom to make life choices  Generosity  Perceptions of corruption  \n",
       "0                         0.961      -0.019                      0.182  \n",
       "1                         0.934       0.134                      0.196  \n",
       "2                         0.936       0.211                      0.668  \n",
       "3                         0.809      -0.023                      0.708  \n",
       "4                         0.887       0.213                      0.379  "
      ]
     },
     "execution_count": 30,
     "metadata": {},
     "output_type": "execute_result"
    }
   ],
   "source": [
    "# Dropping unnecessary columns inplace\n",
    "whr23_df.drop(whr23_df.columns[[4,5,6,13,14,15,16,17,18,19,20]], axis=1, inplace=True)\n",
    "whr23_df.head()"
   ]
  },
  {
   "cell_type": "markdown",
   "metadata": {},
   "source": [
    "## 3.4 Calculating GDP per capita\n",
    "    * GDP per capita is presumed to be in USD"
   ]
  },
  {
   "cell_type": "code",
   "execution_count": 31,
   "metadata": {},
   "outputs": [
    {
     "data": {
      "text/html": [
       "<div>\n",
       "<style scoped>\n",
       "    .dataframe tbody tr th:only-of-type {\n",
       "        vertical-align: middle;\n",
       "    }\n",
       "\n",
       "    .dataframe tbody tr th {\n",
       "        vertical-align: top;\n",
       "    }\n",
       "\n",
       "    .dataframe thead th {\n",
       "        text-align: right;\n",
       "    }\n",
       "</style>\n",
       "<table border=\"1\" class=\"dataframe\">\n",
       "  <thead>\n",
       "    <tr style=\"text-align: right;\">\n",
       "      <th></th>\n",
       "      <th>Country name</th>\n",
       "      <th>Region</th>\n",
       "      <th>Rank</th>\n",
       "      <th>Ladder score</th>\n",
       "      <th>GDP per capita</th>\n",
       "      <th>Social support</th>\n",
       "      <th>Healthy life expectancy</th>\n",
       "      <th>Freedom to make life choices</th>\n",
       "      <th>Generosity</th>\n",
       "      <th>Perceptions of corruption</th>\n",
       "    </tr>\n",
       "  </thead>\n",
       "  <tbody>\n",
       "    <tr>\n",
       "      <th>0</th>\n",
       "      <td>Finland</td>\n",
       "      <td>Western Europe</td>\n",
       "      <td>1</td>\n",
       "      <td>7.804</td>\n",
       "      <td>48630.199218</td>\n",
       "      <td>0.969</td>\n",
       "      <td>71.150</td>\n",
       "      <td>0.961</td>\n",
       "      <td>-0.019</td>\n",
       "      <td>0.182</td>\n",
       "    </tr>\n",
       "    <tr>\n",
       "      <th>1</th>\n",
       "      <td>Denmark</td>\n",
       "      <td>Western Europe</td>\n",
       "      <td>2</td>\n",
       "      <td>7.586</td>\n",
       "      <td>57641.611054</td>\n",
       "      <td>0.954</td>\n",
       "      <td>71.250</td>\n",
       "      <td>0.934</td>\n",
       "      <td>0.134</td>\n",
       "      <td>0.196</td>\n",
       "    </tr>\n",
       "    <tr>\n",
       "      <th>2</th>\n",
       "      <td>Iceland</td>\n",
       "      <td>Western Europe</td>\n",
       "      <td>3</td>\n",
       "      <td>7.530</td>\n",
       "      <td>53960.091175</td>\n",
       "      <td>0.983</td>\n",
       "      <td>72.050</td>\n",
       "      <td>0.936</td>\n",
       "      <td>0.211</td>\n",
       "      <td>0.668</td>\n",
       "    </tr>\n",
       "    <tr>\n",
       "      <th>3</th>\n",
       "      <td>Israel</td>\n",
       "      <td>Middle East and North Africa</td>\n",
       "      <td>4</td>\n",
       "      <td>7.473</td>\n",
       "      <td>41731.019327</td>\n",
       "      <td>0.943</td>\n",
       "      <td>72.697</td>\n",
       "      <td>0.809</td>\n",
       "      <td>-0.023</td>\n",
       "      <td>0.708</td>\n",
       "    </tr>\n",
       "    <tr>\n",
       "      <th>4</th>\n",
       "      <td>Netherlands</td>\n",
       "      <td>Western Europe</td>\n",
       "      <td>5</td>\n",
       "      <td>7.403</td>\n",
       "      <td>56500.230682</td>\n",
       "      <td>0.930</td>\n",
       "      <td>71.550</td>\n",
       "      <td>0.887</td>\n",
       "      <td>0.213</td>\n",
       "      <td>0.379</td>\n",
       "    </tr>\n",
       "  </tbody>\n",
       "</table>\n",
       "</div>"
      ],
      "text/plain": [
       "  Country name                        Region  Rank  Ladder score  \\\n",
       "0      Finland                Western Europe     1         7.804   \n",
       "1      Denmark                Western Europe     2         7.586   \n",
       "2      Iceland                Western Europe     3         7.530   \n",
       "3       Israel  Middle East and North Africa     4         7.473   \n",
       "4  Netherlands                Western Europe     5         7.403   \n",
       "\n",
       "   GDP per capita  Social support  Healthy life expectancy  \\\n",
       "0    48630.199218           0.969                   71.150   \n",
       "1    57641.611054           0.954                   71.250   \n",
       "2    53960.091175           0.983                   72.050   \n",
       "3    41731.019327           0.943                   72.697   \n",
       "4    56500.230682           0.930                   71.550   \n",
       "\n",
       "   Freedom to make life choices  Generosity  Perceptions of corruption  \n",
       "0                         0.961      -0.019                      0.182  \n",
       "1                         0.934       0.134                      0.196  \n",
       "2                         0.936       0.211                      0.668  \n",
       "3                         0.809      -0.023                      0.708  \n",
       "4                         0.887       0.213                      0.379  "
      ]
     },
     "execution_count": 31,
     "metadata": {},
     "output_type": "execute_result"
    }
   ],
   "source": [
    "whr23_df['GDP per capita'] = np.exp(whr23_df['Logged GDP per capita'])  # Calculate the actual 'GDP per capita' by exponentiating the 'Logged GDP per capita'\n",
    "whr23_df.insert(4, 'GDP per capita', whr23_df.pop('GDP per capita'))  # Insert the 'GDP per capita' column at index 4\n",
    "whr23_df.drop('Logged GDP per capita', axis=1, inplace=True)  # Drop the 'Logged GDP per capita' column\n",
    "whr23_df.head()"
   ]
  },
  {
   "cell_type": "code",
   "execution_count": 32,
   "metadata": {},
   "outputs": [
    {
     "data": {
      "text/html": [
       "<div>\n",
       "<style scoped>\n",
       "    .dataframe tbody tr th:only-of-type {\n",
       "        vertical-align: middle;\n",
       "    }\n",
       "\n",
       "    .dataframe tbody tr th {\n",
       "        vertical-align: top;\n",
       "    }\n",
       "\n",
       "    .dataframe thead th {\n",
       "        text-align: right;\n",
       "    }\n",
       "</style>\n",
       "<table border=\"1\" class=\"dataframe\">\n",
       "  <thead>\n",
       "    <tr style=\"text-align: right;\">\n",
       "      <th></th>\n",
       "      <th>Country name</th>\n",
       "      <th>Region</th>\n",
       "      <th>Rank</th>\n",
       "      <th>Ladder score</th>\n",
       "      <th>GDP per capita</th>\n",
       "      <th>Social support</th>\n",
       "      <th>Healthy life expectancy</th>\n",
       "      <th>Freedom to make life choices</th>\n",
       "      <th>Generosity</th>\n",
       "      <th>Perceptions of corruption</th>\n",
       "    </tr>\n",
       "  </thead>\n",
       "  <tbody>\n",
       "    <tr>\n",
       "      <th>0</th>\n",
       "      <td>Finland</td>\n",
       "      <td>Western Europe</td>\n",
       "      <td>1</td>\n",
       "      <td>7.804</td>\n",
       "      <td>48630.20</td>\n",
       "      <td>0.969</td>\n",
       "      <td>71.150</td>\n",
       "      <td>0.961</td>\n",
       "      <td>-0.019</td>\n",
       "      <td>0.182</td>\n",
       "    </tr>\n",
       "    <tr>\n",
       "      <th>1</th>\n",
       "      <td>Denmark</td>\n",
       "      <td>Western Europe</td>\n",
       "      <td>2</td>\n",
       "      <td>7.586</td>\n",
       "      <td>57641.61</td>\n",
       "      <td>0.954</td>\n",
       "      <td>71.250</td>\n",
       "      <td>0.934</td>\n",
       "      <td>0.134</td>\n",
       "      <td>0.196</td>\n",
       "    </tr>\n",
       "    <tr>\n",
       "      <th>2</th>\n",
       "      <td>Iceland</td>\n",
       "      <td>Western Europe</td>\n",
       "      <td>3</td>\n",
       "      <td>7.530</td>\n",
       "      <td>53960.09</td>\n",
       "      <td>0.983</td>\n",
       "      <td>72.050</td>\n",
       "      <td>0.936</td>\n",
       "      <td>0.211</td>\n",
       "      <td>0.668</td>\n",
       "    </tr>\n",
       "    <tr>\n",
       "      <th>3</th>\n",
       "      <td>Israel</td>\n",
       "      <td>Middle East and North Africa</td>\n",
       "      <td>4</td>\n",
       "      <td>7.473</td>\n",
       "      <td>41731.02</td>\n",
       "      <td>0.943</td>\n",
       "      <td>72.697</td>\n",
       "      <td>0.809</td>\n",
       "      <td>-0.023</td>\n",
       "      <td>0.708</td>\n",
       "    </tr>\n",
       "    <tr>\n",
       "      <th>4</th>\n",
       "      <td>Netherlands</td>\n",
       "      <td>Western Europe</td>\n",
       "      <td>5</td>\n",
       "      <td>7.403</td>\n",
       "      <td>56500.23</td>\n",
       "      <td>0.930</td>\n",
       "      <td>71.550</td>\n",
       "      <td>0.887</td>\n",
       "      <td>0.213</td>\n",
       "      <td>0.379</td>\n",
       "    </tr>\n",
       "  </tbody>\n",
       "</table>\n",
       "</div>"
      ],
      "text/plain": [
       "  Country name                        Region  Rank  Ladder score  \\\n",
       "0      Finland                Western Europe     1         7.804   \n",
       "1      Denmark                Western Europe     2         7.586   \n",
       "2      Iceland                Western Europe     3         7.530   \n",
       "3       Israel  Middle East and North Africa     4         7.473   \n",
       "4  Netherlands                Western Europe     5         7.403   \n",
       "\n",
       "   GDP per capita  Social support  Healthy life expectancy  \\\n",
       "0        48630.20           0.969                   71.150   \n",
       "1        57641.61           0.954                   71.250   \n",
       "2        53960.09           0.983                   72.050   \n",
       "3        41731.02           0.943                   72.697   \n",
       "4        56500.23           0.930                   71.550   \n",
       "\n",
       "   Freedom to make life choices  Generosity  Perceptions of corruption  \n",
       "0                         0.961      -0.019                      0.182  \n",
       "1                         0.934       0.134                      0.196  \n",
       "2                         0.936       0.211                      0.668  \n",
       "3                         0.809      -0.023                      0.708  \n",
       "4                         0.887       0.213                      0.379  "
      ]
     },
     "execution_count": 32,
     "metadata": {},
     "output_type": "execute_result"
    }
   ],
   "source": [
    "whr23_df['GDP per capita'] = whr23_df['GDP per capita'].round(2)  # Round the values in \"GDP per capita\" to 2 decimal places\n",
    "whr23_df.head()"
   ]
  },
  {
   "cell_type": "markdown",
   "metadata": {},
   "source": [
    "## 3.5 Renaming the columns"
   ]
  },
  {
   "cell_type": "code",
   "execution_count": 33,
   "metadata": {},
   "outputs": [
    {
     "data": {
      "text/html": [
       "<div>\n",
       "<style scoped>\n",
       "    .dataframe tbody tr th:only-of-type {\n",
       "        vertical-align: middle;\n",
       "    }\n",
       "\n",
       "    .dataframe tbody tr th {\n",
       "        vertical-align: top;\n",
       "    }\n",
       "\n",
       "    .dataframe thead th {\n",
       "        text-align: right;\n",
       "    }\n",
       "</style>\n",
       "<table border=\"1\" class=\"dataframe\">\n",
       "  <thead>\n",
       "    <tr style=\"text-align: right;\">\n",
       "      <th></th>\n",
       "      <th>Country</th>\n",
       "      <th>Region</th>\n",
       "      <th>Rank</th>\n",
       "      <th>Happiness Score</th>\n",
       "      <th>GDP per capita (USD)</th>\n",
       "      <th>Social support</th>\n",
       "      <th>Life Expectancy (Years)</th>\n",
       "      <th>Freedom to make life choices</th>\n",
       "      <th>Generosity</th>\n",
       "      <th>Perceptions of corruption</th>\n",
       "    </tr>\n",
       "  </thead>\n",
       "  <tbody>\n",
       "    <tr>\n",
       "      <th>0</th>\n",
       "      <td>Finland</td>\n",
       "      <td>Western Europe</td>\n",
       "      <td>1</td>\n",
       "      <td>7.804</td>\n",
       "      <td>48630.20</td>\n",
       "      <td>0.969</td>\n",
       "      <td>71.150</td>\n",
       "      <td>0.961</td>\n",
       "      <td>-0.019</td>\n",
       "      <td>0.182</td>\n",
       "    </tr>\n",
       "    <tr>\n",
       "      <th>1</th>\n",
       "      <td>Denmark</td>\n",
       "      <td>Western Europe</td>\n",
       "      <td>2</td>\n",
       "      <td>7.586</td>\n",
       "      <td>57641.61</td>\n",
       "      <td>0.954</td>\n",
       "      <td>71.250</td>\n",
       "      <td>0.934</td>\n",
       "      <td>0.134</td>\n",
       "      <td>0.196</td>\n",
       "    </tr>\n",
       "    <tr>\n",
       "      <th>2</th>\n",
       "      <td>Iceland</td>\n",
       "      <td>Western Europe</td>\n",
       "      <td>3</td>\n",
       "      <td>7.530</td>\n",
       "      <td>53960.09</td>\n",
       "      <td>0.983</td>\n",
       "      <td>72.050</td>\n",
       "      <td>0.936</td>\n",
       "      <td>0.211</td>\n",
       "      <td>0.668</td>\n",
       "    </tr>\n",
       "    <tr>\n",
       "      <th>3</th>\n",
       "      <td>Israel</td>\n",
       "      <td>Middle East and North Africa</td>\n",
       "      <td>4</td>\n",
       "      <td>7.473</td>\n",
       "      <td>41731.02</td>\n",
       "      <td>0.943</td>\n",
       "      <td>72.697</td>\n",
       "      <td>0.809</td>\n",
       "      <td>-0.023</td>\n",
       "      <td>0.708</td>\n",
       "    </tr>\n",
       "    <tr>\n",
       "      <th>4</th>\n",
       "      <td>Netherlands</td>\n",
       "      <td>Western Europe</td>\n",
       "      <td>5</td>\n",
       "      <td>7.403</td>\n",
       "      <td>56500.23</td>\n",
       "      <td>0.930</td>\n",
       "      <td>71.550</td>\n",
       "      <td>0.887</td>\n",
       "      <td>0.213</td>\n",
       "      <td>0.379</td>\n",
       "    </tr>\n",
       "  </tbody>\n",
       "</table>\n",
       "</div>"
      ],
      "text/plain": [
       "       Country                        Region  Rank  Happiness Score  \\\n",
       "0      Finland                Western Europe     1            7.804   \n",
       "1      Denmark                Western Europe     2            7.586   \n",
       "2      Iceland                Western Europe     3            7.530   \n",
       "3       Israel  Middle East and North Africa     4            7.473   \n",
       "4  Netherlands                Western Europe     5            7.403   \n",
       "\n",
       "   GDP per capita (USD)  Social support  Life Expectancy (Years)  \\\n",
       "0              48630.20           0.969                   71.150   \n",
       "1              57641.61           0.954                   71.250   \n",
       "2              53960.09           0.983                   72.050   \n",
       "3              41731.02           0.943                   72.697   \n",
       "4              56500.23           0.930                   71.550   \n",
       "\n",
       "   Freedom to make life choices  Generosity  Perceptions of corruption  \n",
       "0                         0.961      -0.019                      0.182  \n",
       "1                         0.934       0.134                      0.196  \n",
       "2                         0.936       0.211                      0.668  \n",
       "3                         0.809      -0.023                      0.708  \n",
       "4                         0.887       0.213                      0.379  "
      ]
     },
     "execution_count": 33,
     "metadata": {},
     "output_type": "execute_result"
    }
   ],
   "source": [
    "# Renaming columns inplace for better readability\n",
    "whr23_df.rename(columns={\n",
    "    'Country name' : 'Country',  # Renaming the column \"Country name\" to \"Country\"\n",
    "    'Ladder score' : 'Happiness Score',  # Renaming the column \"Ladder score\" to \"Happiness Score\"\n",
    "    'GDP per capita' : 'GDP per capita (USD)',  # Renaming the column \"GDP per capita\" to \"GDP per capita (USD)\"\n",
    "    'Healthy life expectancy' : 'Life Expectancy (Years)'  # Renaming the column \"Healthy life expectancy\" to \"Life Expectancy (Years)\"\n",
    "}, inplace=True)\n",
    "\n",
    "whr23_df.head()"
   ]
  },
  {
   "cell_type": "code",
   "execution_count": 34,
   "metadata": {},
   "outputs": [
    {
     "data": {
      "text/plain": [
       "(137, 10)"
      ]
     },
     "execution_count": 34,
     "metadata": {},
     "output_type": "execute_result"
    }
   ],
   "source": [
    "whr23_df.shape  # Display the shape of the dataframe"
   ]
  },
  {
   "cell_type": "code",
   "execution_count": 35,
   "metadata": {},
   "outputs": [
    {
     "data": {
      "text/plain": [
       "Country                         0\n",
       "Region                          0\n",
       "Rank                            0\n",
       "Happiness Score                 0\n",
       "GDP per capita (USD)            0\n",
       "Social support                  0\n",
       "Life Expectancy (Years)         1\n",
       "Freedom to make life choices    0\n",
       "Generosity                      0\n",
       "Perceptions of corruption       0\n",
       "dtype: int64"
      ]
     },
     "execution_count": 35,
     "metadata": {},
     "output_type": "execute_result"
    }
   ],
   "source": [
    "whr23_df.isna().sum()  # Check for null values"
   ]
  },
  {
   "cell_type": "code",
   "execution_count": 36,
   "metadata": {},
   "outputs": [
    {
     "name": "stdout",
     "output_type": "stream",
     "text": [
      "                       Country  Rank\n",
      "0                      Finland     1\n",
      "1                      Denmark     2\n",
      "2                      Iceland     3\n",
      "3                       Israel     4\n",
      "4                  Netherlands     5\n",
      "5                       Sweden     6\n",
      "6                       Norway     7\n",
      "7                  Switzerland     8\n",
      "8                   Luxembourg     9\n",
      "9                  New Zealand    10\n",
      "10                     Austria    11\n",
      "11                   Australia    12\n",
      "12                      Canada    13\n",
      "13                     Ireland    14\n",
      "14               United States    15\n",
      "15                     Germany    16\n",
      "16                     Belgium    17\n",
      "17                     Czechia    18\n",
      "18              United Kingdom    19\n",
      "19                   Lithuania    20\n",
      "20                      France    21\n",
      "21                    Slovenia    22\n",
      "22                  Costa Rica    23\n",
      "23                     Romania    24\n",
      "24                   Singapore    25\n",
      "25        United Arab Emirates    26\n",
      "26    Taiwan Province of China    27\n",
      "27                     Uruguay    28\n",
      "28                    Slovakia    29\n",
      "29                Saudi Arabia    30\n",
      "30                     Estonia    31\n",
      "31                       Spain    32\n",
      "32                       Italy    33\n",
      "33                      Kosovo    34\n",
      "34                       Chile    35\n",
      "35                      Mexico    36\n",
      "36                       Malta    37\n",
      "37                      Panama    38\n",
      "38                      Poland    39\n",
      "39                   Nicaragua    40\n",
      "40                      Latvia    41\n",
      "41                     Bahrain    42\n",
      "42                   Guatemala    43\n",
      "43                  Kazakhstan    44\n",
      "44                      Serbia    44\n",
      "45                      Cyprus    46\n",
      "46                       Japan    47\n",
      "47                     Croatia    48\n",
      "48                      Brazil    48\n",
      "49                 El Salvador    50\n",
      "50                     Hungary    51\n",
      "51                   Argentina    52\n",
      "52                    Honduras    53\n",
      "53                  Uzbekistan    54\n",
      "54                    Malaysia    55\n",
      "55                    Portugal    56\n",
      "56                 South Korea    57\n",
      "57                      Greece    58\n",
      "58                   Mauritius    59\n",
      "59                    Thailand    60\n",
      "60                    Mongolia    61\n",
      "61                  Kyrgyzstan    62\n",
      "62                     Moldova    63\n",
      "63                       China    64\n",
      "64                     Vietnam    65\n",
      "65                    Paraguay    66\n",
      "66                  Montenegro    67\n",
      "67                     Jamaica    68\n",
      "68                     Bolivia    69\n",
      "69                      Russia    70\n",
      "70      Bosnia and Herzegovina    71\n",
      "71                    Colombia    72\n",
      "72          Dominican Republic    73\n",
      "73                     Ecuador    74\n",
      "74                        Peru    75\n",
      "75                 Philippines    76\n",
      "76                    Bulgaria    77\n",
      "77                       Nepal    78\n",
      "78                     Armenia    79\n",
      "79                  Tajikistan    80\n",
      "80                     Algeria    81\n",
      "81   Hong Kong S.A.R. of China    82\n",
      "82                     Albania    83\n",
      "83                   Indonesia    83\n",
      "84                South Africa    85\n",
      "85         Congo (Brazzaville)    86\n",
      "86             North Macedonia    87\n",
      "87                   Venezuela    88\n",
      "88                        Laos    89\n",
      "89                     Georgia    90\n",
      "90                      Guinea    91\n",
      "91                     Ukraine    92\n",
      "92                 Ivory Coast    93\n",
      "93                       Gabon    94\n",
      "94                     Nigeria    95\n",
      "95                    Cameroon    96\n",
      "96                  Mozambique    97\n",
      "97                        Iraq    98\n",
      "98          State of Palestine    99\n",
      "99                     Morocco   100\n",
      "100                       Iran   101\n",
      "101                    Senegal   102\n",
      "102                 Mauritania   103\n",
      "103               Burkina Faso   104\n",
      "104                    Namibia   105\n",
      "105                    Turkiye   106\n",
      "106                      Ghana   107\n",
      "107                   Pakistan   108\n",
      "108                      Niger   109\n",
      "109                    Tunisia   110\n",
      "110                      Kenya   111\n",
      "111                  Sri Lanka   112\n",
      "112                     Uganda   113\n",
      "113                       Chad   114\n",
      "114                   Cambodia   115\n",
      "115                      Benin   116\n",
      "116                    Myanmar   117\n",
      "117                 Bangladesh   118\n",
      "118                     Gambia   119\n",
      "119                       Mali   120\n",
      "120                      Egypt   121\n",
      "121                       Togo   122\n",
      "122                     Jordan   123\n",
      "123                   Ethiopia   124\n",
      "124                    Liberia   125\n",
      "125                      India   126\n",
      "126                 Madagascar   127\n",
      "127                     Zambia   128\n",
      "128                   Tanzania   129\n",
      "129                    Comoros   130\n",
      "130                     Malawi   131\n",
      "131                   Botswana   132\n",
      "132           Congo (Kinshasa)   133\n",
      "133                   Zimbabwe   134\n",
      "134               Sierra Leone   135\n",
      "135                    Lebanon   136\n",
      "136                Afghanistan   137\n"
     ]
    }
   ],
   "source": [
    "country_names = whr23_df[['Country', 'Rank']]  # Create a new DataFrame with the \"Country\" and \"Rank\" columns\n",
    "print(country_names)"
   ]
  },
  {
   "cell_type": "markdown",
   "metadata": {},
   "source": [
    "# 4 Visualizations"
   ]
  },
  {
   "cell_type": "markdown",
   "metadata": {},
   "source": [
    "## 4.1 Visualization 1: Chloropleth map for an overview of happiness score around the world"
   ]
  },
  {
   "cell_type": "code",
   "execution_count": 37,
   "metadata": {},
   "outputs": [
    {
     "data": {
      "application/vnd.plotly.v1+json": {
       "config": {
        "plotlyServerURL": "https://plot.ly"
       },
       "data": [
        {
         "coloraxis": "coloraxis",
         "geo": "geo",
         "hovertemplate": "<b>%{hovertext}</b><br><br>Country=%{location}<br>Happiness Score=%{z}<extra></extra>",
         "hovertext": [
          "Finland",
          "Denmark",
          "Iceland",
          "Israel",
          "Netherlands",
          "Sweden",
          "Norway",
          "Switzerland",
          "Luxembourg",
          "New Zealand",
          "Austria",
          "Australia",
          "Canada",
          "Ireland",
          "United States",
          "Germany",
          "Belgium",
          "Czechia",
          "United Kingdom",
          "Lithuania",
          "France",
          "Slovenia",
          "Costa Rica",
          "Romania",
          "Singapore",
          "United Arab Emirates",
          "Taiwan Province of China",
          "Uruguay",
          "Slovakia",
          "Saudi Arabia",
          "Estonia",
          "Spain",
          "Italy",
          "Kosovo",
          "Chile",
          "Mexico",
          "Malta",
          "Panama",
          "Poland",
          "Nicaragua",
          "Latvia",
          "Bahrain",
          "Guatemala",
          "Kazakhstan",
          "Serbia",
          "Cyprus",
          "Japan",
          "Croatia",
          "Brazil",
          "El Salvador",
          "Hungary",
          "Argentina",
          "Honduras",
          "Uzbekistan",
          "Malaysia",
          "Portugal",
          "South Korea",
          "Greece",
          "Mauritius",
          "Thailand",
          "Mongolia",
          "Kyrgyzstan",
          "Moldova",
          "China",
          "Vietnam",
          "Paraguay",
          "Montenegro",
          "Jamaica",
          "Bolivia",
          "Russia",
          "Bosnia and Herzegovina",
          "Colombia",
          "Dominican Republic",
          "Ecuador",
          "Peru",
          "Philippines",
          "Bulgaria",
          "Nepal",
          "Armenia",
          "Tajikistan",
          "Algeria",
          "Hong Kong S.A.R. of China",
          "Albania",
          "Indonesia",
          "South Africa",
          "Congo (Brazzaville)",
          "North Macedonia",
          "Venezuela",
          "Laos",
          "Georgia",
          "Guinea",
          "Ukraine",
          "Ivory Coast",
          "Gabon",
          "Nigeria",
          "Cameroon",
          "Mozambique",
          "Iraq",
          "State of Palestine",
          "Morocco",
          "Iran",
          "Senegal",
          "Mauritania",
          "Burkina Faso",
          "Namibia",
          "Turkiye",
          "Ghana",
          "Pakistan",
          "Niger",
          "Tunisia",
          "Kenya",
          "Sri Lanka",
          "Uganda",
          "Chad",
          "Cambodia",
          "Benin",
          "Myanmar",
          "Bangladesh",
          "Gambia",
          "Mali",
          "Egypt",
          "Togo",
          "Jordan",
          "Ethiopia",
          "Liberia",
          "India",
          "Madagascar",
          "Zambia",
          "Tanzania",
          "Comoros",
          "Malawi",
          "Botswana",
          "Congo (Kinshasa)",
          "Zimbabwe",
          "Sierra Leone",
          "Lebanon",
          "Afghanistan"
         ],
         "locationmode": "country names",
         "locations": [
          "Finland",
          "Denmark",
          "Iceland",
          "Israel",
          "Netherlands",
          "Sweden",
          "Norway",
          "Switzerland",
          "Luxembourg",
          "New Zealand",
          "Austria",
          "Australia",
          "Canada",
          "Ireland",
          "United States",
          "Germany",
          "Belgium",
          "Czechia",
          "United Kingdom",
          "Lithuania",
          "France",
          "Slovenia",
          "Costa Rica",
          "Romania",
          "Singapore",
          "United Arab Emirates",
          "Taiwan Province of China",
          "Uruguay",
          "Slovakia",
          "Saudi Arabia",
          "Estonia",
          "Spain",
          "Italy",
          "Kosovo",
          "Chile",
          "Mexico",
          "Malta",
          "Panama",
          "Poland",
          "Nicaragua",
          "Latvia",
          "Bahrain",
          "Guatemala",
          "Kazakhstan",
          "Serbia",
          "Cyprus",
          "Japan",
          "Croatia",
          "Brazil",
          "El Salvador",
          "Hungary",
          "Argentina",
          "Honduras",
          "Uzbekistan",
          "Malaysia",
          "Portugal",
          "South Korea",
          "Greece",
          "Mauritius",
          "Thailand",
          "Mongolia",
          "Kyrgyzstan",
          "Moldova",
          "China",
          "Vietnam",
          "Paraguay",
          "Montenegro",
          "Jamaica",
          "Bolivia",
          "Russia",
          "Bosnia and Herzegovina",
          "Colombia",
          "Dominican Republic",
          "Ecuador",
          "Peru",
          "Philippines",
          "Bulgaria",
          "Nepal",
          "Armenia",
          "Tajikistan",
          "Algeria",
          "Hong Kong S.A.R. of China",
          "Albania",
          "Indonesia",
          "South Africa",
          "Congo (Brazzaville)",
          "North Macedonia",
          "Venezuela",
          "Laos",
          "Georgia",
          "Guinea",
          "Ukraine",
          "Ivory Coast",
          "Gabon",
          "Nigeria",
          "Cameroon",
          "Mozambique",
          "Iraq",
          "State of Palestine",
          "Morocco",
          "Iran",
          "Senegal",
          "Mauritania",
          "Burkina Faso",
          "Namibia",
          "Turkiye",
          "Ghana",
          "Pakistan",
          "Niger",
          "Tunisia",
          "Kenya",
          "Sri Lanka",
          "Uganda",
          "Chad",
          "Cambodia",
          "Benin",
          "Myanmar",
          "Bangladesh",
          "Gambia",
          "Mali",
          "Egypt",
          "Togo",
          "Jordan",
          "Ethiopia",
          "Liberia",
          "India",
          "Madagascar",
          "Zambia",
          "Tanzania",
          "Comoros",
          "Malawi",
          "Botswana",
          "Congo (Kinshasa)",
          "Zimbabwe",
          "Sierra Leone",
          "Lebanon",
          "Afghanistan"
         ],
         "name": "",
         "type": "choropleth",
         "z": [
          7.804,
          7.586,
          7.53,
          7.473,
          7.403,
          7.395,
          7.315,
          7.24,
          7.228,
          7.123,
          7.097,
          7.095,
          6.961,
          6.911,
          6.894,
          6.892,
          6.859,
          6.845,
          6.796,
          6.763,
          6.661,
          6.65,
          6.609,
          6.589,
          6.587,
          6.571,
          6.535,
          6.494,
          6.469,
          6.463,
          6.455,
          6.436,
          6.405,
          6.368,
          6.334,
          6.33,
          6.3,
          6.265,
          6.26,
          6.259,
          6.213,
          6.173,
          6.15,
          6.144,
          6.144,
          6.13,
          6.129,
          6.125,
          6.125,
          6.122,
          6.041,
          6.024,
          6.023,
          6.014,
          6.012,
          5.968,
          5.951,
          5.931,
          5.902,
          5.843,
          5.84,
          5.825,
          5.819,
          5.818,
          5.763,
          5.738,
          5.722,
          5.703,
          5.684,
          5.661,
          5.633,
          5.63,
          5.569,
          5.559,
          5.526,
          5.523,
          5.466,
          5.36,
          5.342,
          5.33,
          5.329,
          5.308,
          5.277,
          5.277,
          5.275,
          5.267,
          5.254,
          5.211,
          5.111,
          5.109,
          5.072,
          5.071,
          5.053,
          5.035,
          4.981,
          4.973,
          4.954,
          4.941,
          4.908,
          4.903,
          4.876,
          4.855,
          4.724,
          4.638,
          4.631,
          4.614,
          4.605,
          4.555,
          4.501,
          4.497,
          4.487,
          4.442,
          4.432,
          4.397,
          4.393,
          4.374,
          4.372,
          4.282,
          4.279,
          4.198,
          4.17,
          4.137,
          4.12,
          4.091,
          4.042,
          4.036,
          4.019,
          3.982,
          3.694,
          3.545,
          3.495,
          3.435,
          3.207,
          3.204,
          3.138,
          2.392,
          1.859
         ]
        }
       ],
       "layout": {
        "coloraxis": {
         "colorbar": {
          "len": 0.43,
          "thickness": 30,
          "thicknessmode": "pixels",
          "tickmode": "linear",
          "tickvals": [
           1.859,
           7.804
          ],
          "title": {
           "text": "Happiness Score"
          }
         },
         "colorscale": [
          [
           0,
           "#7a0402"
          ],
          [
           0.07142857142857142,
           "#b11901"
          ],
          [
           0.14285714285714285,
           "#d93806"
          ],
          [
           0.21428571428571427,
           "#f36315"
          ],
          [
           0.2857142857142857,
           "#fe9b2d"
          ],
          [
           0.35714285714285715,
           "#f3c63a"
          ],
          [
           0.42857142857142855,
           "#d1e834"
          ],
          [
           0.5,
           "#a4fc3b"
          ],
          [
           0.5714285714285714,
           "#61fc6c"
          ],
          [
           0.6428571428571429,
           "#24eca6"
          ],
          [
           0.7142857142857143,
           "#1bcfd4"
          ],
          [
           0.7857142857142857,
           "#39a2fc"
          ],
          [
           0.8571428571428571,
           "#4675ed"
          ],
          [
           0.9285714285714286,
           "#4145ab"
          ],
          [
           1,
           "#30123b"
          ]
         ]
        },
        "geo": {
         "center": {},
         "domain": {
          "x": [
           0,
           1
          ],
          "y": [
           0,
           1
          ]
         }
        },
        "height": 1000,
        "legend": {
         "tracegroupgap": 0
        },
        "margin": {
         "b": 10,
         "l": 10,
         "r": 10,
         "t": 10
        },
        "template": {
         "data": {
          "bar": [
           {
            "error_x": {
             "color": "#2a3f5f"
            },
            "error_y": {
             "color": "#2a3f5f"
            },
            "marker": {
             "line": {
              "color": "#E5ECF6",
              "width": 0.5
             },
             "pattern": {
              "fillmode": "overlay",
              "size": 10,
              "solidity": 0.2
             }
            },
            "type": "bar"
           }
          ],
          "barpolar": [
           {
            "marker": {
             "line": {
              "color": "#E5ECF6",
              "width": 0.5
             },
             "pattern": {
              "fillmode": "overlay",
              "size": 10,
              "solidity": 0.2
             }
            },
            "type": "barpolar"
           }
          ],
          "carpet": [
           {
            "aaxis": {
             "endlinecolor": "#2a3f5f",
             "gridcolor": "white",
             "linecolor": "white",
             "minorgridcolor": "white",
             "startlinecolor": "#2a3f5f"
            },
            "baxis": {
             "endlinecolor": "#2a3f5f",
             "gridcolor": "white",
             "linecolor": "white",
             "minorgridcolor": "white",
             "startlinecolor": "#2a3f5f"
            },
            "type": "carpet"
           }
          ],
          "choropleth": [
           {
            "colorbar": {
             "outlinewidth": 0,
             "ticks": ""
            },
            "type": "choropleth"
           }
          ],
          "contour": [
           {
            "colorbar": {
             "outlinewidth": 0,
             "ticks": ""
            },
            "colorscale": [
             [
              0,
              "#0d0887"
             ],
             [
              0.1111111111111111,
              "#46039f"
             ],
             [
              0.2222222222222222,
              "#7201a8"
             ],
             [
              0.3333333333333333,
              "#9c179e"
             ],
             [
              0.4444444444444444,
              "#bd3786"
             ],
             [
              0.5555555555555556,
              "#d8576b"
             ],
             [
              0.6666666666666666,
              "#ed7953"
             ],
             [
              0.7777777777777778,
              "#fb9f3a"
             ],
             [
              0.8888888888888888,
              "#fdca26"
             ],
             [
              1,
              "#f0f921"
             ]
            ],
            "type": "contour"
           }
          ],
          "contourcarpet": [
           {
            "colorbar": {
             "outlinewidth": 0,
             "ticks": ""
            },
            "type": "contourcarpet"
           }
          ],
          "heatmap": [
           {
            "colorbar": {
             "outlinewidth": 0,
             "ticks": ""
            },
            "colorscale": [
             [
              0,
              "#0d0887"
             ],
             [
              0.1111111111111111,
              "#46039f"
             ],
             [
              0.2222222222222222,
              "#7201a8"
             ],
             [
              0.3333333333333333,
              "#9c179e"
             ],
             [
              0.4444444444444444,
              "#bd3786"
             ],
             [
              0.5555555555555556,
              "#d8576b"
             ],
             [
              0.6666666666666666,
              "#ed7953"
             ],
             [
              0.7777777777777778,
              "#fb9f3a"
             ],
             [
              0.8888888888888888,
              "#fdca26"
             ],
             [
              1,
              "#f0f921"
             ]
            ],
            "type": "heatmap"
           }
          ],
          "heatmapgl": [
           {
            "colorbar": {
             "outlinewidth": 0,
             "ticks": ""
            },
            "colorscale": [
             [
              0,
              "#0d0887"
             ],
             [
              0.1111111111111111,
              "#46039f"
             ],
             [
              0.2222222222222222,
              "#7201a8"
             ],
             [
              0.3333333333333333,
              "#9c179e"
             ],
             [
              0.4444444444444444,
              "#bd3786"
             ],
             [
              0.5555555555555556,
              "#d8576b"
             ],
             [
              0.6666666666666666,
              "#ed7953"
             ],
             [
              0.7777777777777778,
              "#fb9f3a"
             ],
             [
              0.8888888888888888,
              "#fdca26"
             ],
             [
              1,
              "#f0f921"
             ]
            ],
            "type": "heatmapgl"
           }
          ],
          "histogram": [
           {
            "marker": {
             "pattern": {
              "fillmode": "overlay",
              "size": 10,
              "solidity": 0.2
             }
            },
            "type": "histogram"
           }
          ],
          "histogram2d": [
           {
            "colorbar": {
             "outlinewidth": 0,
             "ticks": ""
            },
            "colorscale": [
             [
              0,
              "#0d0887"
             ],
             [
              0.1111111111111111,
              "#46039f"
             ],
             [
              0.2222222222222222,
              "#7201a8"
             ],
             [
              0.3333333333333333,
              "#9c179e"
             ],
             [
              0.4444444444444444,
              "#bd3786"
             ],
             [
              0.5555555555555556,
              "#d8576b"
             ],
             [
              0.6666666666666666,
              "#ed7953"
             ],
             [
              0.7777777777777778,
              "#fb9f3a"
             ],
             [
              0.8888888888888888,
              "#fdca26"
             ],
             [
              1,
              "#f0f921"
             ]
            ],
            "type": "histogram2d"
           }
          ],
          "histogram2dcontour": [
           {
            "colorbar": {
             "outlinewidth": 0,
             "ticks": ""
            },
            "colorscale": [
             [
              0,
              "#0d0887"
             ],
             [
              0.1111111111111111,
              "#46039f"
             ],
             [
              0.2222222222222222,
              "#7201a8"
             ],
             [
              0.3333333333333333,
              "#9c179e"
             ],
             [
              0.4444444444444444,
              "#bd3786"
             ],
             [
              0.5555555555555556,
              "#d8576b"
             ],
             [
              0.6666666666666666,
              "#ed7953"
             ],
             [
              0.7777777777777778,
              "#fb9f3a"
             ],
             [
              0.8888888888888888,
              "#fdca26"
             ],
             [
              1,
              "#f0f921"
             ]
            ],
            "type": "histogram2dcontour"
           }
          ],
          "mesh3d": [
           {
            "colorbar": {
             "outlinewidth": 0,
             "ticks": ""
            },
            "type": "mesh3d"
           }
          ],
          "parcoords": [
           {
            "line": {
             "colorbar": {
              "outlinewidth": 0,
              "ticks": ""
             }
            },
            "type": "parcoords"
           }
          ],
          "pie": [
           {
            "automargin": true,
            "type": "pie"
           }
          ],
          "scatter": [
           {
            "fillpattern": {
             "fillmode": "overlay",
             "size": 10,
             "solidity": 0.2
            },
            "type": "scatter"
           }
          ],
          "scatter3d": [
           {
            "line": {
             "colorbar": {
              "outlinewidth": 0,
              "ticks": ""
             }
            },
            "marker": {
             "colorbar": {
              "outlinewidth": 0,
              "ticks": ""
             }
            },
            "type": "scatter3d"
           }
          ],
          "scattercarpet": [
           {
            "marker": {
             "colorbar": {
              "outlinewidth": 0,
              "ticks": ""
             }
            },
            "type": "scattercarpet"
           }
          ],
          "scattergeo": [
           {
            "marker": {
             "colorbar": {
              "outlinewidth": 0,
              "ticks": ""
             }
            },
            "type": "scattergeo"
           }
          ],
          "scattergl": [
           {
            "marker": {
             "colorbar": {
              "outlinewidth": 0,
              "ticks": ""
             }
            },
            "type": "scattergl"
           }
          ],
          "scattermapbox": [
           {
            "marker": {
             "colorbar": {
              "outlinewidth": 0,
              "ticks": ""
             }
            },
            "type": "scattermapbox"
           }
          ],
          "scatterpolar": [
           {
            "marker": {
             "colorbar": {
              "outlinewidth": 0,
              "ticks": ""
             }
            },
            "type": "scatterpolar"
           }
          ],
          "scatterpolargl": [
           {
            "marker": {
             "colorbar": {
              "outlinewidth": 0,
              "ticks": ""
             }
            },
            "type": "scatterpolargl"
           }
          ],
          "scatterternary": [
           {
            "marker": {
             "colorbar": {
              "outlinewidth": 0,
              "ticks": ""
             }
            },
            "type": "scatterternary"
           }
          ],
          "surface": [
           {
            "colorbar": {
             "outlinewidth": 0,
             "ticks": ""
            },
            "colorscale": [
             [
              0,
              "#0d0887"
             ],
             [
              0.1111111111111111,
              "#46039f"
             ],
             [
              0.2222222222222222,
              "#7201a8"
             ],
             [
              0.3333333333333333,
              "#9c179e"
             ],
             [
              0.4444444444444444,
              "#bd3786"
             ],
             [
              0.5555555555555556,
              "#d8576b"
             ],
             [
              0.6666666666666666,
              "#ed7953"
             ],
             [
              0.7777777777777778,
              "#fb9f3a"
             ],
             [
              0.8888888888888888,
              "#fdca26"
             ],
             [
              1,
              "#f0f921"
             ]
            ],
            "type": "surface"
           }
          ],
          "table": [
           {
            "cells": {
             "fill": {
              "color": "#EBF0F8"
             },
             "line": {
              "color": "white"
             }
            },
            "header": {
             "fill": {
              "color": "#C8D4E3"
             },
             "line": {
              "color": "white"
             }
            },
            "type": "table"
           }
          ]
         },
         "layout": {
          "annotationdefaults": {
           "arrowcolor": "#2a3f5f",
           "arrowhead": 0,
           "arrowwidth": 1
          },
          "autotypenumbers": "strict",
          "coloraxis": {
           "colorbar": {
            "outlinewidth": 0,
            "ticks": ""
           }
          },
          "colorscale": {
           "diverging": [
            [
             0,
             "#8e0152"
            ],
            [
             0.1,
             "#c51b7d"
            ],
            [
             0.2,
             "#de77ae"
            ],
            [
             0.3,
             "#f1b6da"
            ],
            [
             0.4,
             "#fde0ef"
            ],
            [
             0.5,
             "#f7f7f7"
            ],
            [
             0.6,
             "#e6f5d0"
            ],
            [
             0.7,
             "#b8e186"
            ],
            [
             0.8,
             "#7fbc41"
            ],
            [
             0.9,
             "#4d9221"
            ],
            [
             1,
             "#276419"
            ]
           ],
           "sequential": [
            [
             0,
             "#0d0887"
            ],
            [
             0.1111111111111111,
             "#46039f"
            ],
            [
             0.2222222222222222,
             "#7201a8"
            ],
            [
             0.3333333333333333,
             "#9c179e"
            ],
            [
             0.4444444444444444,
             "#bd3786"
            ],
            [
             0.5555555555555556,
             "#d8576b"
            ],
            [
             0.6666666666666666,
             "#ed7953"
            ],
            [
             0.7777777777777778,
             "#fb9f3a"
            ],
            [
             0.8888888888888888,
             "#fdca26"
            ],
            [
             1,
             "#f0f921"
            ]
           ],
           "sequentialminus": [
            [
             0,
             "#0d0887"
            ],
            [
             0.1111111111111111,
             "#46039f"
            ],
            [
             0.2222222222222222,
             "#7201a8"
            ],
            [
             0.3333333333333333,
             "#9c179e"
            ],
            [
             0.4444444444444444,
             "#bd3786"
            ],
            [
             0.5555555555555556,
             "#d8576b"
            ],
            [
             0.6666666666666666,
             "#ed7953"
            ],
            [
             0.7777777777777778,
             "#fb9f3a"
            ],
            [
             0.8888888888888888,
             "#fdca26"
            ],
            [
             1,
             "#f0f921"
            ]
           ]
          },
          "colorway": [
           "#636efa",
           "#EF553B",
           "#00cc96",
           "#ab63fa",
           "#FFA15A",
           "#19d3f3",
           "#FF6692",
           "#B6E880",
           "#FF97FF",
           "#FECB52"
          ],
          "font": {
           "color": "#2a3f5f"
          },
          "geo": {
           "bgcolor": "white",
           "lakecolor": "white",
           "landcolor": "#E5ECF6",
           "showlakes": true,
           "showland": true,
           "subunitcolor": "white"
          },
          "hoverlabel": {
           "align": "left"
          },
          "hovermode": "closest",
          "mapbox": {
           "style": "light"
          },
          "paper_bgcolor": "white",
          "plot_bgcolor": "#E5ECF6",
          "polar": {
           "angularaxis": {
            "gridcolor": "white",
            "linecolor": "white",
            "ticks": ""
           },
           "bgcolor": "#E5ECF6",
           "radialaxis": {
            "gridcolor": "white",
            "linecolor": "white",
            "ticks": ""
           }
          },
          "scene": {
           "xaxis": {
            "backgroundcolor": "#E5ECF6",
            "gridcolor": "white",
            "gridwidth": 2,
            "linecolor": "white",
            "showbackground": true,
            "ticks": "",
            "zerolinecolor": "white"
           },
           "yaxis": {
            "backgroundcolor": "#E5ECF6",
            "gridcolor": "white",
            "gridwidth": 2,
            "linecolor": "white",
            "showbackground": true,
            "ticks": "",
            "zerolinecolor": "white"
           },
           "zaxis": {
            "backgroundcolor": "#E5ECF6",
            "gridcolor": "white",
            "gridwidth": 2,
            "linecolor": "white",
            "showbackground": true,
            "ticks": "",
            "zerolinecolor": "white"
           }
          },
          "shapedefaults": {
           "line": {
            "color": "#2a3f5f"
           }
          },
          "ternary": {
           "aaxis": {
            "gridcolor": "white",
            "linecolor": "white",
            "ticks": ""
           },
           "baxis": {
            "gridcolor": "white",
            "linecolor": "white",
            "ticks": ""
           },
           "bgcolor": "#E5ECF6",
           "caxis": {
            "gridcolor": "white",
            "linecolor": "white",
            "ticks": ""
           }
          },
          "title": {
           "x": 0.05
          },
          "xaxis": {
           "automargin": true,
           "gridcolor": "white",
           "linecolor": "white",
           "ticks": "",
           "title": {
            "standoff": 15
           },
           "zerolinecolor": "white",
           "zerolinewidth": 2
          },
          "yaxis": {
           "automargin": true,
           "gridcolor": "white",
           "linecolor": "white",
           "ticks": "",
           "title": {
            "standoff": 15
           },
           "zerolinecolor": "white",
           "zerolinewidth": 2
          }
         }
        },
        "title": {
         "text": "Happiness Scores by Country (2023)",
         "x": 0.45,
         "y": 0.75
        },
        "width": 1000
       }
      }
     },
     "metadata": {},
     "output_type": "display_data"
    }
   ],
   "source": [
    "# Creating a choropleth map using Plotly Express to visualize Happiness Scores by Country\n",
    "fig = px.choropleth(whr23_df,\n",
    "                    locations='Country',  # Column containing country names\n",
    "                    locationmode='country names',  # Set the location mode\n",
    "                    color='Happiness Score',  # Column containing happiness scores\n",
    "                    hover_name='Country',  # Column to display on hover\n",
    "                    color_continuous_scale='turbo_r',  # Color scale\n",
    "                    title='Happiness Scores by Country (2023)'  # Title\n",
    "                    )\n",
    "\n",
    "# Update layout for better visualization\n",
    "fig.update_layout(\n",
    "    width=1000,  # Set the width of the plot\n",
    "    height=1000,  # Set the height of the plot\n",
    "    title_x = 0.45,  # Center the title horizontally\n",
    "    title_y=0.75,  # Center the title vertically\n",
    "    coloraxis_colorbar=dict(  # Customize the colorbar\n",
    "        tickmode='linear',  # Set tick mode to linear\n",
    "        tickvals=[min(whr23_df['Happiness Score']), max(whr23_df['Happiness Score'])],  # Set tick values to min and max happiness scores\n",
    "        len=0.43,  # Set the length of the colorbar\n",
    "        thicknessmode='pixels',  # Set the thickness mode to pixels\n",
    "        thickness=30,  # Set the thickness of the colorbar\n",
    "    ),\n",
    "    margin=dict(t=10,b=10,l=10,r=10)  # Set the margins of the plot for a compact layout\n",
    ")\n",
    "\n",
    "fig.show()  # Display the plot"
   ]
  },
  {
   "cell_type": "markdown",
   "metadata": {},
   "source": [
    "## 4.2 Visualization 2: Bar chart of average happiness and average life expectancy by region"
   ]
  },
  {
   "cell_type": "code",
   "execution_count": 38,
   "metadata": {},
   "outputs": [
    {
     "data": {
      "application/vnd.plotly.v1+json": {
       "config": {
        "plotlyServerURL": "https://plot.ly"
       },
       "data": [
        {
         "name": "Happiness Score",
         "orientation": "h",
         "text": [
          5.97,
          5.83,
          5.93,
          5.97,
          5.1,
          7.02,
          4.09,
          5.43,
          4.38,
          6.89
         ],
         "textposition": "inside",
         "type": "bar",
         "x": [
          5.97,
          5.83,
          5.93,
          5.97,
          5.1,
          7.02,
          4.09,
          5.43,
          4.38,
          6.89
         ],
         "xaxis": "x",
         "y": [
          "Central and Eastern Europe",
          "Commonwealth of Independent States",
          "East Asia",
          "Latin America and Caribbean",
          "Middle East and North Africa",
          "North America and ANZ",
          "South Asia",
          "Southeast Asia",
          "Sub-Saharan Africa",
          "Western Europe"
         ],
         "yaxis": "y"
        },
        {
         "name": "Life Expectancy",
         "orientation": "h",
         "text": [
          67.33,
          65.05,
          70.68,
          66.66,
          66.35,
          69.66,
          61.06,
          64.75,
          56.99,
          71.63
         ],
         "textfont": {
          "color": "white"
         },
         "textposition": "inside",
         "type": "bar",
         "x": [
          67.33,
          65.05,
          70.68,
          66.66,
          66.35,
          69.66,
          61.06,
          64.75,
          56.99,
          71.63
         ],
         "xaxis": "x2",
         "y": [
          "Central and Eastern Europe",
          "Commonwealth of Independent States",
          "East Asia",
          "Latin America and Caribbean",
          "Middle East and North Africa",
          "North America and ANZ",
          "South Asia",
          "Southeast Asia",
          "Sub-Saharan Africa",
          "Western Europe"
         ],
         "yaxis": "y2"
        }
       ],
       "layout": {
        "annotations": [
         {
          "font": {
           "size": 16
          },
          "showarrow": false,
          "text": "Average Happiness Score by Region",
          "x": 0.225,
          "xanchor": "center",
          "xref": "paper",
          "y": 1,
          "yanchor": "bottom",
          "yref": "paper"
         },
         {
          "font": {
           "size": 16
          },
          "showarrow": false,
          "text": "Average Life Expectancy by Region",
          "x": 0.775,
          "xanchor": "center",
          "xref": "paper",
          "y": 1,
          "yanchor": "bottom",
          "yref": "paper"
         }
        ],
        "height": 600,
        "showlegend": true,
        "template": {
         "data": {
          "bar": [
           {
            "error_x": {
             "color": "#2a3f5f"
            },
            "error_y": {
             "color": "#2a3f5f"
            },
            "marker": {
             "line": {
              "color": "white",
              "width": 0.5
             },
             "pattern": {
              "fillmode": "overlay",
              "size": 10,
              "solidity": 0.2
             }
            },
            "type": "bar"
           }
          ],
          "barpolar": [
           {
            "marker": {
             "line": {
              "color": "white",
              "width": 0.5
             },
             "pattern": {
              "fillmode": "overlay",
              "size": 10,
              "solidity": 0.2
             }
            },
            "type": "barpolar"
           }
          ],
          "carpet": [
           {
            "aaxis": {
             "endlinecolor": "#2a3f5f",
             "gridcolor": "#C8D4E3",
             "linecolor": "#C8D4E3",
             "minorgridcolor": "#C8D4E3",
             "startlinecolor": "#2a3f5f"
            },
            "baxis": {
             "endlinecolor": "#2a3f5f",
             "gridcolor": "#C8D4E3",
             "linecolor": "#C8D4E3",
             "minorgridcolor": "#C8D4E3",
             "startlinecolor": "#2a3f5f"
            },
            "type": "carpet"
           }
          ],
          "choropleth": [
           {
            "colorbar": {
             "outlinewidth": 0,
             "ticks": ""
            },
            "type": "choropleth"
           }
          ],
          "contour": [
           {
            "colorbar": {
             "outlinewidth": 0,
             "ticks": ""
            },
            "colorscale": [
             [
              0,
              "#0d0887"
             ],
             [
              0.1111111111111111,
              "#46039f"
             ],
             [
              0.2222222222222222,
              "#7201a8"
             ],
             [
              0.3333333333333333,
              "#9c179e"
             ],
             [
              0.4444444444444444,
              "#bd3786"
             ],
             [
              0.5555555555555556,
              "#d8576b"
             ],
             [
              0.6666666666666666,
              "#ed7953"
             ],
             [
              0.7777777777777778,
              "#fb9f3a"
             ],
             [
              0.8888888888888888,
              "#fdca26"
             ],
             [
              1,
              "#f0f921"
             ]
            ],
            "type": "contour"
           }
          ],
          "contourcarpet": [
           {
            "colorbar": {
             "outlinewidth": 0,
             "ticks": ""
            },
            "type": "contourcarpet"
           }
          ],
          "heatmap": [
           {
            "colorbar": {
             "outlinewidth": 0,
             "ticks": ""
            },
            "colorscale": [
             [
              0,
              "#0d0887"
             ],
             [
              0.1111111111111111,
              "#46039f"
             ],
             [
              0.2222222222222222,
              "#7201a8"
             ],
             [
              0.3333333333333333,
              "#9c179e"
             ],
             [
              0.4444444444444444,
              "#bd3786"
             ],
             [
              0.5555555555555556,
              "#d8576b"
             ],
             [
              0.6666666666666666,
              "#ed7953"
             ],
             [
              0.7777777777777778,
              "#fb9f3a"
             ],
             [
              0.8888888888888888,
              "#fdca26"
             ],
             [
              1,
              "#f0f921"
             ]
            ],
            "type": "heatmap"
           }
          ],
          "heatmapgl": [
           {
            "colorbar": {
             "outlinewidth": 0,
             "ticks": ""
            },
            "colorscale": [
             [
              0,
              "#0d0887"
             ],
             [
              0.1111111111111111,
              "#46039f"
             ],
             [
              0.2222222222222222,
              "#7201a8"
             ],
             [
              0.3333333333333333,
              "#9c179e"
             ],
             [
              0.4444444444444444,
              "#bd3786"
             ],
             [
              0.5555555555555556,
              "#d8576b"
             ],
             [
              0.6666666666666666,
              "#ed7953"
             ],
             [
              0.7777777777777778,
              "#fb9f3a"
             ],
             [
              0.8888888888888888,
              "#fdca26"
             ],
             [
              1,
              "#f0f921"
             ]
            ],
            "type": "heatmapgl"
           }
          ],
          "histogram": [
           {
            "marker": {
             "pattern": {
              "fillmode": "overlay",
              "size": 10,
              "solidity": 0.2
             }
            },
            "type": "histogram"
           }
          ],
          "histogram2d": [
           {
            "colorbar": {
             "outlinewidth": 0,
             "ticks": ""
            },
            "colorscale": [
             [
              0,
              "#0d0887"
             ],
             [
              0.1111111111111111,
              "#46039f"
             ],
             [
              0.2222222222222222,
              "#7201a8"
             ],
             [
              0.3333333333333333,
              "#9c179e"
             ],
             [
              0.4444444444444444,
              "#bd3786"
             ],
             [
              0.5555555555555556,
              "#d8576b"
             ],
             [
              0.6666666666666666,
              "#ed7953"
             ],
             [
              0.7777777777777778,
              "#fb9f3a"
             ],
             [
              0.8888888888888888,
              "#fdca26"
             ],
             [
              1,
              "#f0f921"
             ]
            ],
            "type": "histogram2d"
           }
          ],
          "histogram2dcontour": [
           {
            "colorbar": {
             "outlinewidth": 0,
             "ticks": ""
            },
            "colorscale": [
             [
              0,
              "#0d0887"
             ],
             [
              0.1111111111111111,
              "#46039f"
             ],
             [
              0.2222222222222222,
              "#7201a8"
             ],
             [
              0.3333333333333333,
              "#9c179e"
             ],
             [
              0.4444444444444444,
              "#bd3786"
             ],
             [
              0.5555555555555556,
              "#d8576b"
             ],
             [
              0.6666666666666666,
              "#ed7953"
             ],
             [
              0.7777777777777778,
              "#fb9f3a"
             ],
             [
              0.8888888888888888,
              "#fdca26"
             ],
             [
              1,
              "#f0f921"
             ]
            ],
            "type": "histogram2dcontour"
           }
          ],
          "mesh3d": [
           {
            "colorbar": {
             "outlinewidth": 0,
             "ticks": ""
            },
            "type": "mesh3d"
           }
          ],
          "parcoords": [
           {
            "line": {
             "colorbar": {
              "outlinewidth": 0,
              "ticks": ""
             }
            },
            "type": "parcoords"
           }
          ],
          "pie": [
           {
            "automargin": true,
            "type": "pie"
           }
          ],
          "scatter": [
           {
            "fillpattern": {
             "fillmode": "overlay",
             "size": 10,
             "solidity": 0.2
            },
            "type": "scatter"
           }
          ],
          "scatter3d": [
           {
            "line": {
             "colorbar": {
              "outlinewidth": 0,
              "ticks": ""
             }
            },
            "marker": {
             "colorbar": {
              "outlinewidth": 0,
              "ticks": ""
             }
            },
            "type": "scatter3d"
           }
          ],
          "scattercarpet": [
           {
            "marker": {
             "colorbar": {
              "outlinewidth": 0,
              "ticks": ""
             }
            },
            "type": "scattercarpet"
           }
          ],
          "scattergeo": [
           {
            "marker": {
             "colorbar": {
              "outlinewidth": 0,
              "ticks": ""
             }
            },
            "type": "scattergeo"
           }
          ],
          "scattergl": [
           {
            "marker": {
             "colorbar": {
              "outlinewidth": 0,
              "ticks": ""
             }
            },
            "type": "scattergl"
           }
          ],
          "scattermapbox": [
           {
            "marker": {
             "colorbar": {
              "outlinewidth": 0,
              "ticks": ""
             }
            },
            "type": "scattermapbox"
           }
          ],
          "scatterpolar": [
           {
            "marker": {
             "colorbar": {
              "outlinewidth": 0,
              "ticks": ""
             }
            },
            "type": "scatterpolar"
           }
          ],
          "scatterpolargl": [
           {
            "marker": {
             "colorbar": {
              "outlinewidth": 0,
              "ticks": ""
             }
            },
            "type": "scatterpolargl"
           }
          ],
          "scatterternary": [
           {
            "marker": {
             "colorbar": {
              "outlinewidth": 0,
              "ticks": ""
             }
            },
            "type": "scatterternary"
           }
          ],
          "surface": [
           {
            "colorbar": {
             "outlinewidth": 0,
             "ticks": ""
            },
            "colorscale": [
             [
              0,
              "#0d0887"
             ],
             [
              0.1111111111111111,
              "#46039f"
             ],
             [
              0.2222222222222222,
              "#7201a8"
             ],
             [
              0.3333333333333333,
              "#9c179e"
             ],
             [
              0.4444444444444444,
              "#bd3786"
             ],
             [
              0.5555555555555556,
              "#d8576b"
             ],
             [
              0.6666666666666666,
              "#ed7953"
             ],
             [
              0.7777777777777778,
              "#fb9f3a"
             ],
             [
              0.8888888888888888,
              "#fdca26"
             ],
             [
              1,
              "#f0f921"
             ]
            ],
            "type": "surface"
           }
          ],
          "table": [
           {
            "cells": {
             "fill": {
              "color": "#EBF0F8"
             },
             "line": {
              "color": "white"
             }
            },
            "header": {
             "fill": {
              "color": "#C8D4E3"
             },
             "line": {
              "color": "white"
             }
            },
            "type": "table"
           }
          ]
         },
         "layout": {
          "annotationdefaults": {
           "arrowcolor": "#2a3f5f",
           "arrowhead": 0,
           "arrowwidth": 1
          },
          "autotypenumbers": "strict",
          "coloraxis": {
           "colorbar": {
            "outlinewidth": 0,
            "ticks": ""
           }
          },
          "colorscale": {
           "diverging": [
            [
             0,
             "#8e0152"
            ],
            [
             0.1,
             "#c51b7d"
            ],
            [
             0.2,
             "#de77ae"
            ],
            [
             0.3,
             "#f1b6da"
            ],
            [
             0.4,
             "#fde0ef"
            ],
            [
             0.5,
             "#f7f7f7"
            ],
            [
             0.6,
             "#e6f5d0"
            ],
            [
             0.7,
             "#b8e186"
            ],
            [
             0.8,
             "#7fbc41"
            ],
            [
             0.9,
             "#4d9221"
            ],
            [
             1,
             "#276419"
            ]
           ],
           "sequential": [
            [
             0,
             "#0d0887"
            ],
            [
             0.1111111111111111,
             "#46039f"
            ],
            [
             0.2222222222222222,
             "#7201a8"
            ],
            [
             0.3333333333333333,
             "#9c179e"
            ],
            [
             0.4444444444444444,
             "#bd3786"
            ],
            [
             0.5555555555555556,
             "#d8576b"
            ],
            [
             0.6666666666666666,
             "#ed7953"
            ],
            [
             0.7777777777777778,
             "#fb9f3a"
            ],
            [
             0.8888888888888888,
             "#fdca26"
            ],
            [
             1,
             "#f0f921"
            ]
           ],
           "sequentialminus": [
            [
             0,
             "#0d0887"
            ],
            [
             0.1111111111111111,
             "#46039f"
            ],
            [
             0.2222222222222222,
             "#7201a8"
            ],
            [
             0.3333333333333333,
             "#9c179e"
            ],
            [
             0.4444444444444444,
             "#bd3786"
            ],
            [
             0.5555555555555556,
             "#d8576b"
            ],
            [
             0.6666666666666666,
             "#ed7953"
            ],
            [
             0.7777777777777778,
             "#fb9f3a"
            ],
            [
             0.8888888888888888,
             "#fdca26"
            ],
            [
             1,
             "#f0f921"
            ]
           ]
          },
          "colorway": [
           "#636efa",
           "#EF553B",
           "#00cc96",
           "#ab63fa",
           "#FFA15A",
           "#19d3f3",
           "#FF6692",
           "#B6E880",
           "#FF97FF",
           "#FECB52"
          ],
          "font": {
           "color": "#2a3f5f"
          },
          "geo": {
           "bgcolor": "white",
           "lakecolor": "white",
           "landcolor": "white",
           "showlakes": true,
           "showland": true,
           "subunitcolor": "#C8D4E3"
          },
          "hoverlabel": {
           "align": "left"
          },
          "hovermode": "closest",
          "mapbox": {
           "style": "light"
          },
          "paper_bgcolor": "white",
          "plot_bgcolor": "white",
          "polar": {
           "angularaxis": {
            "gridcolor": "#EBF0F8",
            "linecolor": "#EBF0F8",
            "ticks": ""
           },
           "bgcolor": "white",
           "radialaxis": {
            "gridcolor": "#EBF0F8",
            "linecolor": "#EBF0F8",
            "ticks": ""
           }
          },
          "scene": {
           "xaxis": {
            "backgroundcolor": "white",
            "gridcolor": "#DFE8F3",
            "gridwidth": 2,
            "linecolor": "#EBF0F8",
            "showbackground": true,
            "ticks": "",
            "zerolinecolor": "#EBF0F8"
           },
           "yaxis": {
            "backgroundcolor": "white",
            "gridcolor": "#DFE8F3",
            "gridwidth": 2,
            "linecolor": "#EBF0F8",
            "showbackground": true,
            "ticks": "",
            "zerolinecolor": "#EBF0F8"
           },
           "zaxis": {
            "backgroundcolor": "white",
            "gridcolor": "#DFE8F3",
            "gridwidth": 2,
            "linecolor": "#EBF0F8",
            "showbackground": true,
            "ticks": "",
            "zerolinecolor": "#EBF0F8"
           }
          },
          "shapedefaults": {
           "line": {
            "color": "#2a3f5f"
           }
          },
          "ternary": {
           "aaxis": {
            "gridcolor": "#DFE8F3",
            "linecolor": "#A2B1C6",
            "ticks": ""
           },
           "baxis": {
            "gridcolor": "#DFE8F3",
            "linecolor": "#A2B1C6",
            "ticks": ""
           },
           "bgcolor": "white",
           "caxis": {
            "gridcolor": "#DFE8F3",
            "linecolor": "#A2B1C6",
            "ticks": ""
           }
          },
          "title": {
           "x": 0.05
          },
          "xaxis": {
           "automargin": true,
           "gridcolor": "#EBF0F8",
           "linecolor": "#EBF0F8",
           "ticks": "",
           "title": {
            "standoff": 15
           },
           "zerolinecolor": "#EBF0F8",
           "zerolinewidth": 2
          },
          "yaxis": {
           "automargin": true,
           "gridcolor": "#EBF0F8",
           "linecolor": "#EBF0F8",
           "ticks": "",
           "title": {
            "standoff": 15
           },
           "zerolinecolor": "#EBF0F8",
           "zerolinewidth": 2
          }
         }
        },
        "title": {
         "text": "Average Happiness and Life Expectancy by Region",
         "x": 0.5
        },
        "width": 1000,
        "xaxis": {
         "anchor": "y",
         "domain": [
          0,
          0.45
         ],
         "title": {
          "text": "Average Happiness Score"
         }
        },
        "xaxis2": {
         "anchor": "y2",
         "domain": [
          0.55,
          1
         ],
         "title": {
          "text": "Average Life Expectancy (Years)"
         }
        },
        "yaxis": {
         "anchor": "x",
         "domain": [
          0,
          1
         ],
         "title": {
          "text": "Region"
         }
        },
        "yaxis2": {
         "anchor": "x2",
         "domain": [
          0,
          1
         ],
         "matches": "y",
         "showticklabels": false
        }
       }
      }
     },
     "metadata": {},
     "output_type": "display_data"
    }
   ],
   "source": [
    "# Calculate average values for \"Happiness Score\" and \"Life Expectancy\" per region and round to 2 decimals\n",
    "region_avg_df = whr23_df.groupby('Region').agg({  # Groupby \"Region\" and calculate the mean\n",
    "    'Happiness Score': 'mean',  # Calculate the mean of \"Happiness Score\"\n",
    "    'Life Expectancy (Years)': 'mean'  # Calculate the mean of \"Life Expectancy (Years)\"\n",
    "}).reset_index()  # Reset the index\n",
    "\n",
    "# Round the averages to 2 decimal places\n",
    "region_avg_df['Happiness Score'] = region_avg_df['Happiness Score'].round(2)\n",
    "region_avg_df['Life Expectancy (Years)'] = region_avg_df['Life Expectancy (Years)'].round(2)\n",
    "\n",
    "# Create subplots\n",
    "fig = make_subplots(\n",
    "    rows=1, cols=2,  # Create a 1x2 grid of subplots\n",
    "    subplot_titles=(\"Average Happiness Score by Region\", \"Average Life Expectancy by Region\"),  # Set subplot titles\n",
    "    vertical_spacing=0.1,  # Adjust spacing between subplots\n",
    "    shared_yaxes=True  # Share the y-axis (Region) between subplots\n",
    ")\n",
    "\n",
    "# Add bar chart for Average Happiness Score by Region (left subplot)\n",
    "fig.add_trace(go.Bar(\n",
    "    y=region_avg_df['Region'],  # Region names on the y-axis\n",
    "    x=region_avg_df['Happiness Score'],  # Average happiness score on the x-axis\n",
    "    name=\"Happiness Score\",  # Name of the trace\n",
    "    orientation='h',  # Horizontal bars\n",
    "    text=region_avg_df['Happiness Score'],  # Display average happiness score on bars\n",
    "    textposition='inside',  # Position the text outside the bars\n",
    "), row=1, col=1)\n",
    "\n",
    "# Add bar chart for Average Life Expectancy by Region (right subplot)\n",
    "fig.add_trace(go.Bar(\n",
    "    y=region_avg_df['Region'],  # Region names on the y-axis\n",
    "    x=region_avg_df['Life Expectancy (Years)'],  # Average life expectancy on the x-axis\n",
    "    name=\"Life Expectancy\",  # Name of the trace\n",
    "    orientation='h',  # Horizontal bars\n",
    "    text=region_avg_df['Life Expectancy (Years)'],  # Display life expectancy on bars\n",
    "    textposition='inside',  # Position the text outside the bars\n",
    "    textfont=dict(color='white')  # Set text color to white for better visibility\n",
    "), row=1, col=2)\n",
    "\n",
    "# Update layout with titles and labels\n",
    "fig.update_layout(\n",
    "    height=600,  # Set the height of the figure\n",
    "    width=1000,  # Set the width of the figure\n",
    "    title=\"Average Happiness and Life Expectancy by Region\",  # Set the title\n",
    "    title_x=0.5,  # Center the title\n",
    "    template=\"plotly_white\",  # Set the template\n",
    "    showlegend=True,  # Show legend\n",
    "    xaxis=dict(\n",
    "        title=\"Average Happiness Score\",  # X-axis title for the first subplot\n",
    "        domain=[0, 0.45]  # Adjust the range for the first subplot's x-axis\n",
    "    ),\n",
    "    xaxis2=dict(\n",
    "        title=\"Average Life Expectancy (Years)\",  # X-axis title for the second subplot\n",
    "        domain=[0.55, 1]  # Adjust the range for the second subplot's x-axis\n",
    "    ),\n",
    "    yaxis=dict(\n",
    "        title=\"Region\" # Shared Y-axis title\n",
    "    ),\n",
    ")\n",
    "\n",
    "fig.show()  # Display the figure\n"
   ]
  },
  {
   "cell_type": "markdown",
   "metadata": {},
   "source": [
    "## 4.3  Visualization 3: Scatter plot of corruption vs happiness with GDP per capita in USD"
   ]
  },
  {
   "cell_type": "code",
   "execution_count": 39,
   "metadata": {},
   "outputs": [
    {
     "data": {
      "application/vnd.plotly.v1+json": {
       "config": {
        "plotlyServerURL": "https://plot.ly"
       },
       "data": [
        {
         "hovertemplate": "<b>%{hovertext}</b><br><br>Region=Western Europe<br>Happiness Score=%{x}<br>Perceptions of Corruption=%{y}<br>GDP per capita (USD)=%{marker.size}<extra></extra>",
         "hovertext": [
          "Finland",
          "Denmark",
          "Iceland",
          "Netherlands",
          "Sweden",
          "Norway",
          "Switzerland",
          "Luxembourg",
          "Austria",
          "Ireland",
          "Germany",
          "Belgium",
          "United Kingdom",
          "France",
          "Spain",
          "Italy",
          "Malta",
          "Cyprus",
          "Portugal",
          "Greece"
         ],
         "legendgroup": "Western Europe",
         "marker": {
          "color": "#636efa",
          "size": [
           48630.2,
           57641.61,
           53960.09,
           56500.23,
           53263.15,
           65381.85,
           70544.57,
           115844.03,
           54122.21,
           101417.4,
           53050.52,
           51225.87,
           44533.63,
           44400.23,
           37797.57,
           41522.88,
           42659.28,
           40578.76,
           33826.51,
           29377.96
          ],
          "sizemode": "area",
          "sizeref": 289.610075,
          "symbol": "circle"
         },
         "mode": "markers",
         "name": "Western Europe",
         "orientation": "v",
         "showlegend": true,
         "type": "scatter",
         "x": [
          7.804,
          7.586,
          7.53,
          7.403,
          7.395,
          7.315,
          7.24,
          7.228,
          7.097,
          6.911,
          6.892,
          6.859,
          6.796,
          6.661,
          6.436,
          6.405,
          6.3,
          6.13,
          5.968,
          5.931
         ],
         "xaxis": "x",
         "y": [
          0.182,
          0.196,
          0.668,
          0.379,
          0.202,
          0.283,
          0.266,
          0.345,
          0.497,
          0.358,
          0.42,
          0.549,
          0.454,
          0.553,
          0.711,
          0.842,
          0.729,
          0.86,
          0.878,
          0.793
         ],
         "yaxis": "y"
        },
        {
         "hovertemplate": "<b>%{hovertext}</b><br><br>Region=Middle East and North Africa<br>Happiness Score=%{x}<br>Perceptions of Corruption=%{y}<br>GDP per capita (USD)=%{marker.size}<extra></extra>",
         "hovertext": [
          "Israel",
          "United Arab Emirates",
          "Saudi Arabia",
          "Bahrain",
          "Algeria",
          "Iraq",
          "State of Palestine",
          "Morocco",
          "Iran",
          "Turkiye",
          "Tunisia",
          "Egypt",
          "Jordan",
          "Lebanon"
         ],
         "legendgroup": "Middle East and North Africa",
         "marker": {
          "color": "#EF553B",
          "size": [
           41731.02,
           69216.88,
           45026.21,
           47858.31,
           10938.02,
           8937.4,
           6099.73,
           7887.23,
           14913.17,
           29941.48,
           10342.33,
           11695.97,
           9228.02,
           13069.02
          ],
          "sizemode": "area",
          "sizeref": 289.610075,
          "symbol": "circle"
         },
         "mode": "markers",
         "name": "Middle East and North Africa",
         "orientation": "v",
         "showlegend": true,
         "type": "scatter",
         "x": [
          7.473,
          6.571,
          6.463,
          6.173,
          5.329,
          4.941,
          4.908,
          4.903,
          4.876,
          4.614,
          4.497,
          4.17,
          4.12,
          2.392
         ],
         "xaxis": "x",
         "y": [
          0.708,
          0.584,
          0.691,
          0.737,
          0.717,
          0.876,
          0.836,
          0.811,
          0.747,
          0.795,
          0.907,
          0.58,
          0.687,
          0.891
         ],
         "yaxis": "y"
        },
        {
         "hovertemplate": "<b>%{hovertext}</b><br><br>Region=North America and ANZ<br>Happiness Score=%{x}<br>Perceptions of Corruption=%{y}<br>GDP per capita (USD)=%{marker.size}<extra></extra>",
         "hovertext": [
          "New Zealand",
          "Australia",
          "Canada",
          "United States"
         ],
         "legendgroup": "North America and ANZ",
         "marker": {
          "color": "#00cc96",
          "size": [
           42701.96,
           50061.12,
           47714.95,
           62818.19
          ],
          "sizemode": "area",
          "sizeref": 289.610075,
          "symbol": "circle"
         },
         "mode": "markers",
         "name": "North America and ANZ",
         "orientation": "v",
         "showlegend": true,
         "type": "scatter",
         "x": [
          7.123,
          7.095,
          6.961,
          6.894
         ],
         "xaxis": "x",
         "y": [
          0.271,
          0.496,
          0.42,
          0.689
         ],
         "yaxis": "y"
        },
        {
         "hovertemplate": "<b>%{hovertext}</b><br><br>Region=Central and Eastern Europe<br>Happiness Score=%{x}<br>Perceptions of Corruption=%{y}<br>GDP per capita (USD)=%{marker.size}<extra></extra>",
         "hovertext": [
          "Czechia",
          "Lithuania",
          "Slovenia",
          "Romania",
          "Slovakia",
          "Estonia",
          "Kosovo",
          "Poland",
          "Latvia",
          "Serbia",
          "Croatia",
          "Hungary",
          "Moldova",
          "Montenegro",
          "Russia",
          "Bosnia and Herzegovina",
          "Bulgaria",
          "Armenia",
          "Albania",
          "North Macedonia",
          "Georgia",
          "Ukraine"
         ],
         "legendgroup": "Central and Eastern Europe",
         "marker": {
          "color": "#ab63fa",
          "size": [
           40578.76,
           38870.85,
           39656.1,
           30915.1,
           31350.95,
           37835.38,
           11602.78,
           34648.16,
           31888.48,
           19034.34,
           30976.99,
           33489.93,
           13346.37,
           18269.71,
           27173.57,
           15002.92,
           24028.6,
           14987.92,
           14285.5,
           16366.63,
           15459.82,
           11092.23
          ],
          "sizemode": "area",
          "sizeref": 289.610075,
          "symbol": "circle"
         },
         "mode": "markers",
         "name": "Central and Eastern Europe",
         "orientation": "v",
         "showlegend": true,
         "type": "scatter",
         "x": [
          6.845,
          6.763,
          6.65,
          6.589,
          6.469,
          6.455,
          6.368,
          6.26,
          6.213,
          6.144,
          6.125,
          6.041,
          5.819,
          5.722,
          5.661,
          5.633,
          5.466,
          5.342,
          5.277,
          5.254,
          5.109,
          5.071
         ],
         "xaxis": "x",
         "y": [
          0.859,
          0.805,
          0.771,
          0.929,
          0.898,
          0.409,
          0.866,
          0.736,
          0.83,
          0.816,
          0.925,
          0.839,
          0.901,
          0.844,
          0.801,
          0.918,
          0.911,
          0.705,
          0.878,
          0.902,
          0.649,
          0.907
         ],
         "yaxis": "y"
        },
        {
         "hovertemplate": "<b>%{hovertext}</b><br><br>Region=Latin America and Caribbean<br>Happiness Score=%{x}<br>Perceptions of Corruption=%{y}<br>GDP per capita (USD)=%{marker.size}<extra></extra>",
         "hovertext": [
          "Costa Rica",
          "Uruguay",
          "Chile",
          "Mexico",
          "Panama",
          "Nicaragua",
          "Guatemala",
          "Brazil",
          "El Salvador",
          "Argentina",
          "Honduras",
          "Paraguay",
          "Jamaica",
          "Bolivia",
          "Colombia",
          "Dominican Republic",
          "Ecuador",
          "Peru",
          "Venezuela"
         ],
         "legendgroup": "Latin America and Caribbean",
         "marker": {
          "color": "#FFA15A",
          "size": [
           20994.17,
           22856.71,
           24686.21,
           18958.35,
           29881.65,
           5530.31,
           9099.73,
           14501.39,
           8857.32,
           21141.64,
           5625.13,
           13493.99,
           9556.72,
           7982.44,
           14530.42,
           18233.21,
           10614.75,
           12112.58,
           251.39
          ],
          "sizemode": "area",
          "sizeref": 289.610075,
          "symbol": "circle"
         },
         "mode": "markers",
         "name": "Latin America and Caribbean",
         "orientation": "v",
         "showlegend": true,
         "type": "scatter",
         "x": [
          6.609,
          6.494,
          6.334,
          6.33,
          6.265,
          6.259,
          6.15,
          6.125,
          6.122,
          6.024,
          6.023,
          5.738,
          5.703,
          5.684,
          5.63,
          5.569,
          5.559,
          5.526,
          5.211
         ],
         "xaxis": "x",
         "y": [
          0.768,
          0.575,
          0.823,
          0.768,
          0.878,
          0.625,
          0.837,
          0.738,
          0.62,
          0.814,
          0.843,
          0.843,
          0.875,
          0.846,
          0.834,
          0.657,
          0.833,
          0.892,
          0.811
         ],
         "yaxis": "y"
        },
        {
         "hovertemplate": "<b>%{hovertext}</b><br><br>Region=Southeast Asia<br>Happiness Score=%{x}<br>Perceptions of Corruption=%{y}<br>GDP per capita (USD)=%{marker.size}<extra></extra>",
         "hovertext": [
          "Singapore",
          "Malaysia",
          "Thailand",
          "Vietnam",
          "Philippines",
          "Indonesia",
          "Laos",
          "Cambodia",
          "Myanmar"
         ],
         "legendgroup": "Southeast Asia",
         "marker": {
          "color": "#19d3f3",
          "size": [
           105979.4,
           26081.98,
           17171.39,
           10796.75,
           7934.69,
           11908.41,
           7800.94,
           4380.86,
           4464.89
          ],
          "sizemode": "area",
          "sizeref": 289.610075,
          "symbol": "circle"
         },
         "mode": "markers",
         "name": "Southeast Asia",
         "orientation": "v",
         "showlegend": true,
         "type": "scatter",
         "x": [
          6.587,
          6.012,
          5.843,
          5.763,
          5.523,
          5.277,
          5.111,
          4.393,
          4.372
         ],
         "xaxis": "x",
         "y": [
          0.146,
          0.758,
          0.91,
          0.759,
          0.732,
          0.876,
          0.703,
          0.857,
          0.658
         ],
         "yaxis": "y"
        },
        {
         "hovertemplate": "<b>%{hovertext}</b><br><br>Region=East Asia<br>Happiness Score=%{x}<br>Perceptions of Corruption=%{y}<br>GDP per capita (USD)=%{marker.size}<extra></extra>",
         "hovertext": [
          "Taiwan Province of China",
          "Japan",
          "South Korea",
          "Mongolia",
          "China",
          "Hong Kong S.A.R. of China"
         ],
         "legendgroup": "East Asia",
         "marker": {
          "color": "#FF6692",
          "size": [
           48873.96,
           40782.16,
           44046.45,
           11754.6,
           16949.61,
           57872.64
          ],
          "sizemode": "area",
          "sizeref": 289.610075,
          "symbol": "circle"
         },
         "mode": "markers",
         "name": "East Asia",
         "orientation": "v",
         "showlegend": true,
         "type": "scatter",
         "x": [
          6.535,
          6.129,
          5.951,
          5.84,
          5.818,
          5.308
         ],
         "xaxis": "x",
         "y": [
          0.681,
          0.64,
          0.701,
          0.849,
          0.727,
          0.385
         ],
         "yaxis": "y"
        },
        {
         "hovertemplate": "<b>%{hovertext}</b><br><br>Region=Commonwealth of Independent States<br>Happiness Score=%{x}<br>Perceptions of Corruption=%{y}<br>GDP per capita (USD)=%{marker.size}<extra></extra>",
         "hovertext": [
          "Kazakhstan",
          "Uzbekistan",
          "Kyrgyzstan",
          "Tajikistan"
         ],
         "legendgroup": "Commonwealth of Independent States",
         "marker": {
          "color": "#B6E880",
          "size": [
           26003.85,
           7692.49,
           4846.44,
           3778.19
          ],
          "sizemode": "area",
          "sizeref": 289.610075,
          "symbol": "circle"
         },
         "mode": "markers",
         "name": "Commonwealth of Independent States",
         "orientation": "v",
         "showlegend": true,
         "type": "scatter",
         "x": [
          6.144,
          6.014,
          5.825,
          5.33
         ],
         "xaxis": "x",
         "y": [
          0.721,
          0.638,
          0.904,
          0.522
         ],
         "yaxis": "y"
        },
        {
         "hovertemplate": "<b>%{hovertext}</b><br><br>Region=Sub-Saharan Africa<br>Happiness Score=%{x}<br>Perceptions of Corruption=%{y}<br>GDP per capita (USD)=%{marker.size}<extra></extra>",
         "hovertext": [
          "Mauritius",
          "South Africa",
          "Congo (Brazzaville)",
          "Guinea",
          "Ivory Coast",
          "Gabon",
          "Nigeria",
          "Cameroon",
          "Mozambique",
          "Senegal",
          "Mauritania",
          "Burkina Faso",
          "Namibia",
          "Ghana",
          "Niger",
          "Kenya",
          "Uganda",
          "Chad",
          "Benin",
          "Gambia",
          "Mali",
          "Togo",
          "Ethiopia",
          "Liberia",
          "Madagascar",
          "Zambia",
          "Tanzania",
          "Comoros",
          "Malawi",
          "Botswana",
          "Congo (Kinshasa)",
          "Zimbabwe",
          "Sierra Leone"
         ],
         "legendgroup": "Sub-Saharan Africa",
         "marker": {
          "color": "#FF97FF",
          "size": [
           21099.4,
           13069.02,
           3278.04,
           2643.87,
           5302.85,
           13863.3,
           4895.15,
           3703.38,
           1231.51,
           3480.74,
           5382.99,
           2136.66,
           9145.34,
           5409.98,
           1201.11,
           4712.62,
           2243.97,
           1423.68,
           3304.37,
           2096.45,
           2111.18,
           2149.52,
           2296.18,
           1446.64,
           1465.57,
           3209.92,
           2583.76,
           3213.13,
           1483.26,
           15199.23,
           1104.34,
           2081.82,
           1626.2
          ],
          "sizemode": "area",
          "sizeref": 289.610075,
          "symbol": "circle"
         },
         "mode": "markers",
         "name": "Sub-Saharan Africa",
         "orientation": "v",
         "showlegend": true,
         "type": "scatter",
         "x": [
          5.902,
          5.275,
          5.267,
          5.072,
          5.053,
          5.035,
          4.981,
          4.973,
          4.954,
          4.855,
          4.724,
          4.638,
          4.631,
          4.605,
          4.501,
          4.487,
          4.432,
          4.397,
          4.374,
          4.279,
          4.198,
          4.137,
          4.091,
          4.042,
          4.019,
          3.982,
          3.694,
          3.545,
          3.495,
          3.435,
          3.207,
          3.204,
          3.138
         ],
         "xaxis": "x",
         "y": [
          0.775,
          0.902,
          0.739,
          0.787,
          0.746,
          0.786,
          0.911,
          0.846,
          0.66,
          0.846,
          0.657,
          0.771,
          0.83,
          0.881,
          0.734,
          0.852,
          0.857,
          0.807,
          0.576,
          0.883,
          0.846,
          0.74,
          0.789,
          0.83,
          0.742,
          0.818,
          0.554,
          0.727,
          0.749,
          0.83,
          0.834,
          0.766,
          0.858
         ],
         "yaxis": "y"
        },
        {
         "hovertemplate": "<b>%{hovertext}</b><br><br>Region=South Asia<br>Happiness Score=%{x}<br>Perceptions of Corruption=%{y}<br>GDP per capita (USD)=%{marker.size}<extra></extra>",
         "hovertext": [
          "Nepal",
          "Pakistan",
          "Sri Lanka",
          "Bangladesh",
          "India",
          "Afghanistan"
         ],
         "legendgroup": "South Asia",
         "marker": {
          "color": "#FECB52",
          "size": [
           3850.66,
           5115.34,
           13240.03,
           5913.54,
           6367.74,
           1516.26
          ],
          "sizemode": "area",
          "sizeref": 289.610075,
          "symbol": "circle"
         },
         "mode": "markers",
         "name": "South Asia",
         "orientation": "v",
         "showlegend": true,
         "type": "scatter",
         "x": [
          5.36,
          4.555,
          4.442,
          4.282,
          4.036,
          1.859
         ],
         "xaxis": "x",
         "y": [
          0.783,
          0.787,
          0.808,
          0.698,
          0.774,
          0.847
         ],
         "yaxis": "y"
        }
       ],
       "layout": {
        "annotations": [
         {
          "align": "center",
          "font": {
           "color": "black",
           "size": 12
          },
          "showarrow": false,
          "text": "*Bubble size corresponds to GDP per capita (USD)",
          "x": 1,
          "xref": "paper",
          "y": 0.05,
          "yref": "paper"
         }
        ],
        "legend": {
         "itemsizing": "constant",
         "title": {
          "text": "Region"
         },
         "tracegroupgap": 0
        },
        "template": {
         "data": {
          "bar": [
           {
            "error_x": {
             "color": "#2a3f5f"
            },
            "error_y": {
             "color": "#2a3f5f"
            },
            "marker": {
             "line": {
              "color": "white",
              "width": 0.5
             },
             "pattern": {
              "fillmode": "overlay",
              "size": 10,
              "solidity": 0.2
             }
            },
            "type": "bar"
           }
          ],
          "barpolar": [
           {
            "marker": {
             "line": {
              "color": "white",
              "width": 0.5
             },
             "pattern": {
              "fillmode": "overlay",
              "size": 10,
              "solidity": 0.2
             }
            },
            "type": "barpolar"
           }
          ],
          "carpet": [
           {
            "aaxis": {
             "endlinecolor": "#2a3f5f",
             "gridcolor": "#C8D4E3",
             "linecolor": "#C8D4E3",
             "minorgridcolor": "#C8D4E3",
             "startlinecolor": "#2a3f5f"
            },
            "baxis": {
             "endlinecolor": "#2a3f5f",
             "gridcolor": "#C8D4E3",
             "linecolor": "#C8D4E3",
             "minorgridcolor": "#C8D4E3",
             "startlinecolor": "#2a3f5f"
            },
            "type": "carpet"
           }
          ],
          "choropleth": [
           {
            "colorbar": {
             "outlinewidth": 0,
             "ticks": ""
            },
            "type": "choropleth"
           }
          ],
          "contour": [
           {
            "colorbar": {
             "outlinewidth": 0,
             "ticks": ""
            },
            "colorscale": [
             [
              0,
              "#0d0887"
             ],
             [
              0.1111111111111111,
              "#46039f"
             ],
             [
              0.2222222222222222,
              "#7201a8"
             ],
             [
              0.3333333333333333,
              "#9c179e"
             ],
             [
              0.4444444444444444,
              "#bd3786"
             ],
             [
              0.5555555555555556,
              "#d8576b"
             ],
             [
              0.6666666666666666,
              "#ed7953"
             ],
             [
              0.7777777777777778,
              "#fb9f3a"
             ],
             [
              0.8888888888888888,
              "#fdca26"
             ],
             [
              1,
              "#f0f921"
             ]
            ],
            "type": "contour"
           }
          ],
          "contourcarpet": [
           {
            "colorbar": {
             "outlinewidth": 0,
             "ticks": ""
            },
            "type": "contourcarpet"
           }
          ],
          "heatmap": [
           {
            "colorbar": {
             "outlinewidth": 0,
             "ticks": ""
            },
            "colorscale": [
             [
              0,
              "#0d0887"
             ],
             [
              0.1111111111111111,
              "#46039f"
             ],
             [
              0.2222222222222222,
              "#7201a8"
             ],
             [
              0.3333333333333333,
              "#9c179e"
             ],
             [
              0.4444444444444444,
              "#bd3786"
             ],
             [
              0.5555555555555556,
              "#d8576b"
             ],
             [
              0.6666666666666666,
              "#ed7953"
             ],
             [
              0.7777777777777778,
              "#fb9f3a"
             ],
             [
              0.8888888888888888,
              "#fdca26"
             ],
             [
              1,
              "#f0f921"
             ]
            ],
            "type": "heatmap"
           }
          ],
          "heatmapgl": [
           {
            "colorbar": {
             "outlinewidth": 0,
             "ticks": ""
            },
            "colorscale": [
             [
              0,
              "#0d0887"
             ],
             [
              0.1111111111111111,
              "#46039f"
             ],
             [
              0.2222222222222222,
              "#7201a8"
             ],
             [
              0.3333333333333333,
              "#9c179e"
             ],
             [
              0.4444444444444444,
              "#bd3786"
             ],
             [
              0.5555555555555556,
              "#d8576b"
             ],
             [
              0.6666666666666666,
              "#ed7953"
             ],
             [
              0.7777777777777778,
              "#fb9f3a"
             ],
             [
              0.8888888888888888,
              "#fdca26"
             ],
             [
              1,
              "#f0f921"
             ]
            ],
            "type": "heatmapgl"
           }
          ],
          "histogram": [
           {
            "marker": {
             "pattern": {
              "fillmode": "overlay",
              "size": 10,
              "solidity": 0.2
             }
            },
            "type": "histogram"
           }
          ],
          "histogram2d": [
           {
            "colorbar": {
             "outlinewidth": 0,
             "ticks": ""
            },
            "colorscale": [
             [
              0,
              "#0d0887"
             ],
             [
              0.1111111111111111,
              "#46039f"
             ],
             [
              0.2222222222222222,
              "#7201a8"
             ],
             [
              0.3333333333333333,
              "#9c179e"
             ],
             [
              0.4444444444444444,
              "#bd3786"
             ],
             [
              0.5555555555555556,
              "#d8576b"
             ],
             [
              0.6666666666666666,
              "#ed7953"
             ],
             [
              0.7777777777777778,
              "#fb9f3a"
             ],
             [
              0.8888888888888888,
              "#fdca26"
             ],
             [
              1,
              "#f0f921"
             ]
            ],
            "type": "histogram2d"
           }
          ],
          "histogram2dcontour": [
           {
            "colorbar": {
             "outlinewidth": 0,
             "ticks": ""
            },
            "colorscale": [
             [
              0,
              "#0d0887"
             ],
             [
              0.1111111111111111,
              "#46039f"
             ],
             [
              0.2222222222222222,
              "#7201a8"
             ],
             [
              0.3333333333333333,
              "#9c179e"
             ],
             [
              0.4444444444444444,
              "#bd3786"
             ],
             [
              0.5555555555555556,
              "#d8576b"
             ],
             [
              0.6666666666666666,
              "#ed7953"
             ],
             [
              0.7777777777777778,
              "#fb9f3a"
             ],
             [
              0.8888888888888888,
              "#fdca26"
             ],
             [
              1,
              "#f0f921"
             ]
            ],
            "type": "histogram2dcontour"
           }
          ],
          "mesh3d": [
           {
            "colorbar": {
             "outlinewidth": 0,
             "ticks": ""
            },
            "type": "mesh3d"
           }
          ],
          "parcoords": [
           {
            "line": {
             "colorbar": {
              "outlinewidth": 0,
              "ticks": ""
             }
            },
            "type": "parcoords"
           }
          ],
          "pie": [
           {
            "automargin": true,
            "type": "pie"
           }
          ],
          "scatter": [
           {
            "fillpattern": {
             "fillmode": "overlay",
             "size": 10,
             "solidity": 0.2
            },
            "type": "scatter"
           }
          ],
          "scatter3d": [
           {
            "line": {
             "colorbar": {
              "outlinewidth": 0,
              "ticks": ""
             }
            },
            "marker": {
             "colorbar": {
              "outlinewidth": 0,
              "ticks": ""
             }
            },
            "type": "scatter3d"
           }
          ],
          "scattercarpet": [
           {
            "marker": {
             "colorbar": {
              "outlinewidth": 0,
              "ticks": ""
             }
            },
            "type": "scattercarpet"
           }
          ],
          "scattergeo": [
           {
            "marker": {
             "colorbar": {
              "outlinewidth": 0,
              "ticks": ""
             }
            },
            "type": "scattergeo"
           }
          ],
          "scattergl": [
           {
            "marker": {
             "colorbar": {
              "outlinewidth": 0,
              "ticks": ""
             }
            },
            "type": "scattergl"
           }
          ],
          "scattermapbox": [
           {
            "marker": {
             "colorbar": {
              "outlinewidth": 0,
              "ticks": ""
             }
            },
            "type": "scattermapbox"
           }
          ],
          "scatterpolar": [
           {
            "marker": {
             "colorbar": {
              "outlinewidth": 0,
              "ticks": ""
             }
            },
            "type": "scatterpolar"
           }
          ],
          "scatterpolargl": [
           {
            "marker": {
             "colorbar": {
              "outlinewidth": 0,
              "ticks": ""
             }
            },
            "type": "scatterpolargl"
           }
          ],
          "scatterternary": [
           {
            "marker": {
             "colorbar": {
              "outlinewidth": 0,
              "ticks": ""
             }
            },
            "type": "scatterternary"
           }
          ],
          "surface": [
           {
            "colorbar": {
             "outlinewidth": 0,
             "ticks": ""
            },
            "colorscale": [
             [
              0,
              "#0d0887"
             ],
             [
              0.1111111111111111,
              "#46039f"
             ],
             [
              0.2222222222222222,
              "#7201a8"
             ],
             [
              0.3333333333333333,
              "#9c179e"
             ],
             [
              0.4444444444444444,
              "#bd3786"
             ],
             [
              0.5555555555555556,
              "#d8576b"
             ],
             [
              0.6666666666666666,
              "#ed7953"
             ],
             [
              0.7777777777777778,
              "#fb9f3a"
             ],
             [
              0.8888888888888888,
              "#fdca26"
             ],
             [
              1,
              "#f0f921"
             ]
            ],
            "type": "surface"
           }
          ],
          "table": [
           {
            "cells": {
             "fill": {
              "color": "#EBF0F8"
             },
             "line": {
              "color": "white"
             }
            },
            "header": {
             "fill": {
              "color": "#C8D4E3"
             },
             "line": {
              "color": "white"
             }
            },
            "type": "table"
           }
          ]
         },
         "layout": {
          "annotationdefaults": {
           "arrowcolor": "#2a3f5f",
           "arrowhead": 0,
           "arrowwidth": 1
          },
          "autotypenumbers": "strict",
          "coloraxis": {
           "colorbar": {
            "outlinewidth": 0,
            "ticks": ""
           }
          },
          "colorscale": {
           "diverging": [
            [
             0,
             "#8e0152"
            ],
            [
             0.1,
             "#c51b7d"
            ],
            [
             0.2,
             "#de77ae"
            ],
            [
             0.3,
             "#f1b6da"
            ],
            [
             0.4,
             "#fde0ef"
            ],
            [
             0.5,
             "#f7f7f7"
            ],
            [
             0.6,
             "#e6f5d0"
            ],
            [
             0.7,
             "#b8e186"
            ],
            [
             0.8,
             "#7fbc41"
            ],
            [
             0.9,
             "#4d9221"
            ],
            [
             1,
             "#276419"
            ]
           ],
           "sequential": [
            [
             0,
             "#0d0887"
            ],
            [
             0.1111111111111111,
             "#46039f"
            ],
            [
             0.2222222222222222,
             "#7201a8"
            ],
            [
             0.3333333333333333,
             "#9c179e"
            ],
            [
             0.4444444444444444,
             "#bd3786"
            ],
            [
             0.5555555555555556,
             "#d8576b"
            ],
            [
             0.6666666666666666,
             "#ed7953"
            ],
            [
             0.7777777777777778,
             "#fb9f3a"
            ],
            [
             0.8888888888888888,
             "#fdca26"
            ],
            [
             1,
             "#f0f921"
            ]
           ],
           "sequentialminus": [
            [
             0,
             "#0d0887"
            ],
            [
             0.1111111111111111,
             "#46039f"
            ],
            [
             0.2222222222222222,
             "#7201a8"
            ],
            [
             0.3333333333333333,
             "#9c179e"
            ],
            [
             0.4444444444444444,
             "#bd3786"
            ],
            [
             0.5555555555555556,
             "#d8576b"
            ],
            [
             0.6666666666666666,
             "#ed7953"
            ],
            [
             0.7777777777777778,
             "#fb9f3a"
            ],
            [
             0.8888888888888888,
             "#fdca26"
            ],
            [
             1,
             "#f0f921"
            ]
           ]
          },
          "colorway": [
           "#636efa",
           "#EF553B",
           "#00cc96",
           "#ab63fa",
           "#FFA15A",
           "#19d3f3",
           "#FF6692",
           "#B6E880",
           "#FF97FF",
           "#FECB52"
          ],
          "font": {
           "color": "#2a3f5f"
          },
          "geo": {
           "bgcolor": "white",
           "lakecolor": "white",
           "landcolor": "white",
           "showlakes": true,
           "showland": true,
           "subunitcolor": "#C8D4E3"
          },
          "hoverlabel": {
           "align": "left"
          },
          "hovermode": "closest",
          "mapbox": {
           "style": "light"
          },
          "paper_bgcolor": "white",
          "plot_bgcolor": "white",
          "polar": {
           "angularaxis": {
            "gridcolor": "#EBF0F8",
            "linecolor": "#EBF0F8",
            "ticks": ""
           },
           "bgcolor": "white",
           "radialaxis": {
            "gridcolor": "#EBF0F8",
            "linecolor": "#EBF0F8",
            "ticks": ""
           }
          },
          "scene": {
           "xaxis": {
            "backgroundcolor": "white",
            "gridcolor": "#DFE8F3",
            "gridwidth": 2,
            "linecolor": "#EBF0F8",
            "showbackground": true,
            "ticks": "",
            "zerolinecolor": "#EBF0F8"
           },
           "yaxis": {
            "backgroundcolor": "white",
            "gridcolor": "#DFE8F3",
            "gridwidth": 2,
            "linecolor": "#EBF0F8",
            "showbackground": true,
            "ticks": "",
            "zerolinecolor": "#EBF0F8"
           },
           "zaxis": {
            "backgroundcolor": "white",
            "gridcolor": "#DFE8F3",
            "gridwidth": 2,
            "linecolor": "#EBF0F8",
            "showbackground": true,
            "ticks": "",
            "zerolinecolor": "#EBF0F8"
           }
          },
          "shapedefaults": {
           "line": {
            "color": "#2a3f5f"
           }
          },
          "ternary": {
           "aaxis": {
            "gridcolor": "#DFE8F3",
            "linecolor": "#A2B1C6",
            "ticks": ""
           },
           "baxis": {
            "gridcolor": "#DFE8F3",
            "linecolor": "#A2B1C6",
            "ticks": ""
           },
           "bgcolor": "white",
           "caxis": {
            "gridcolor": "#DFE8F3",
            "linecolor": "#A2B1C6",
            "ticks": ""
           }
          },
          "title": {
           "x": 0.05
          },
          "xaxis": {
           "automargin": true,
           "gridcolor": "#EBF0F8",
           "linecolor": "#EBF0F8",
           "ticks": "",
           "title": {
            "standoff": 15
           },
           "zerolinecolor": "#EBF0F8",
           "zerolinewidth": 2
          },
          "yaxis": {
           "automargin": true,
           "gridcolor": "#EBF0F8",
           "linecolor": "#EBF0F8",
           "ticks": "",
           "title": {
            "standoff": 15
           },
           "zerolinecolor": "#EBF0F8",
           "zerolinewidth": 2
          }
         }
        },
        "title": {
         "text": "Perceptions of Corruption vs Happiness with GDP per capita (USD)"
        },
        "xaxis": {
         "anchor": "y",
         "domain": [
          0,
          1
         ],
         "title": {
          "text": "Happiness Score"
         }
        },
        "yaxis": {
         "anchor": "x",
         "domain": [
          0,
          1
         ],
         "title": {
          "text": "Perceptions of Corruption"
         }
        }
       }
      }
     },
     "metadata": {},
     "output_type": "display_data"
    }
   ],
   "source": [
    "# Create a scatter plot using Plotly Express to visualize the relationship between Happiness Score, Perceptions of Corruption, and GDP per capita\n",
    "fig = px.scatter(whr23_df,\n",
    "                 x=\"Happiness Score\",    # X-axis: Happiness Score\n",
    "                 y=\"Perceptions of corruption\",         # Y-axis: Life Expectancy\n",
    "                 size=\"GDP per capita (USD)\",   # Bubble size: GDP per capita\n",
    "                 color=\"Region\",              # Bubble color: Region\n",
    "                 hover_name=\"Country\",        # Display country names on hover\n",
    "                 title=\"Perceptions of Corruption vs Happiness with GDP per capita (USD)\",  # Title\n",
    "                 labels={\"GDP per capita (USD)\": \"GDP per capita (USD)\",  # Label for GDP per capita\n",
    "                         \"Happiness Score\": \"Happiness Score\",  # Label for Happiness Score\n",
    "                         \"Perceptions of corruption\": \"Perceptions of Corruption\"},  # Label for Perceptions of Corruption\n",
    "                 template=\"plotly_white\"      # For a clean, simple layout\n",
    "                )\n",
    "\n",
    "# # Update layout with annotations\n",
    "fig.update_layout(\n",
    "    annotations=[  # Add an annotation about bubble size\n",
    "        dict(\n",
    "            x=1,  # Adjust the horizontal position of the note\n",
    "            y=0.05,  # Adjust the vertical position of the note\n",
    "            xref=\"paper\",  # Reference the paper size\n",
    "            yref=\"paper\",  # Reference the paper size\n",
    "            text=\"*Bubble size corresponds to GDP per capita (USD)\",  # Note about bubble size\n",
    "            showarrow=False,  # No arrow\n",
    "            font=dict(size=12, color=\"black\"),  # Font settings for the note\n",
    "            align=\"center\"  # Center the note horizontally\n",
    "        )\n",
    "    ]\n",
    ")\n",
    "\n",
    "fig.show()  # Display the plot\n"
   ]
  },
  {
   "cell_type": "markdown",
   "metadata": {},
   "source": [
    "## 4.4 Visualization 4: Regression plot between social support and happiness score by region"
   ]
  },
  {
   "cell_type": "code",
   "execution_count": 40,
   "metadata": {},
   "outputs": [
    {
     "data": {
      "image/png": "[encoded data removed]",
      "text/plain": [
       "<Figure size 1200x800 with 1 Axes>"
      ]
     },
     "metadata": {},
     "output_type": "display_data"
    }
   ],
   "source": [
    "# Define a custom marker for each region\n",
    "marker_styles = {\n",
    "    'Sub-Saharan Africa': 'D',  # Diamond\n",
    "    'Central and Eastern Europe': 'v',  # Triangle Down\n",
    "    'Western Europe': 'o',  # Circle\n",
    "    'Latin America and Caribbean': '^',  # Triangle Up\n",
    "    'Middle East and North Africa': 's',  # Square\n",
    "    'South Asia': 'X',  # Cross\n",
    "    'Southeast Asia': '>',  # Triangle Right\n",
    "    'East Asia': '*',  # Star\n",
    "    'North America and ANZ': 'P',  # Pentagon\n",
    "    'Commonwealth of Independent States': 'H'  # Hexagon\n",
    "}\n",
    "\n",
    "# Create the plot\n",
    "plt.figure(figsize=(12, 8))  # Figure size of 12x8 inches\n",
    "\n",
    "# Plot Happiness Score vs Social Support with a regression line\n",
    "sns.regplot(x='Social support', y='Happiness Score', data=whr23_df,\n",
    "            scatter_kws={'s': 100, 'edgecolor': 'black', 'alpha': 0.7},  # Increase marker size and edge color\n",
    "            line_kws={'color': 'red'},  # Set the regression line color to red\n",
    "            ci=None,  # Remove confidence interval\n",
    "            fit_reg=True)  # Show the regression line\n",
    "\n",
    "# Plot regions separately with different markers\n",
    "for region, marker in marker_styles.items():  # Iterate over regions and markers\n",
    "    region_data = whr23_df[whr23_df['Region'] == region]  # Filter data for the current region\n",
    "    sns.scatterplot(x='Social support', y='Happiness Score', data=region_data,  # Plot the data for the current region\n",
    "                    label=region, marker=marker,  # Set the marker style and label\n",
    "                    s=120,  # Set the marker size\n",
    "                    edgecolor='black',  # Set the edge color\n",
    "                    alpha=0.8)  # Set the transparency\n",
    "\n",
    "\n",
    "# Adding labels and title\n",
    "plt.title('Relationship between Happiness Score and Social Support by Region', fontsize=16)\n",
    "plt.xlabel('Social Support', fontsize=14)\n",
    "plt.ylabel('Happiness Score', fontsize=14)\n",
    "\n",
    "# Improve the legend\n",
    "plt.legend(title='Region', loc='upper left', bbox_to_anchor=(1, 1), fontsize=12)\n",
    "\n",
    "# Show the plot with appropriate layout\n",
    "plt.tight_layout()\n",
    "\n",
    "# Display the plot\n",
    "plt.show()\n"
   ]
  },
  {
   "cell_type": "code",
   "execution_count": null,
   "metadata": {},
   "outputs": [],
   "source": []
  }
 ],
 "metadata": {
  "kernelspec": {
   "display_name": ".venvDVVA",
   "language": "python",
   "name": "python3"
  },
  "language_info": {
   "codemirror_mode": {
    "name": "ipython",
    "version": 3
   },
   "file_extension": ".py",
   "mimetype": "text/x-python",
   "name": "python",
   "nbconvert_exporter": "python",
   "pygments_lexer": "ipython3",
   "version": "3.13.0"
  }
 },
 "nbformat": 4,
 "nbformat_minor": 2
}
